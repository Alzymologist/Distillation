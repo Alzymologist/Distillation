{
 "cells": [
  {
   "cell_type": "markdown",
   "metadata": {
    "tags": []
   },
   "source": [
    "## Imports, definitions, examples"
   ]
  },
  {
   "cell_type": "code",
   "execution_count": 1,
   "metadata": {},
   "outputs": [],
   "source": [
    "import ipywidgets as widgets\n",
    "import json\n",
    "import io\n",
    "import os\n",
    "import sys\n",
    "import copy\n",
    "import shutil\n",
    "import jinja2\n",
    "import uncertainties\n",
    "from types import FunctionType, UnionType, NoneType\n",
    "from datetime import date\n",
    "from dataclasses import dataclass"
   ]
  },
  {
   "cell_type": "code",
   "execution_count": 2,
   "metadata": {},
   "outputs": [],
   "source": [
    "# Path constants:\n",
    "JSON_FOLDER_PATH = \"json\" # Path to the JSON folder.\n",
    "PDF_FOLDER_PATH = \"reports\" # Path to the PDF folder.\n",
    "SOURCE_FOLDER_PATH = \"source/\" # Path to the folder with .py and .tex files.\n",
    "TEMPORARY_NAME = \"temp\" # Used to create temporary names for JSON and PDF files (until the choosen widgets are filled).\n",
    "\n",
    "# Constants for structuring JSON files:\n",
    "FUNCTION_SECTION_KEY = \"FUNCTIONS\" # Key for function data.\n",
    "WIDGET_SECTION_KEY = \"WIDGETS\"  # Key for widget data.\n",
    "FIRST_SERIES_KEY = \"first_series\"   # Key for first series data (inside function data).\n",
    "SECOND_SERIES_KEY = \"second_series\" # Key for second series data  (inside function data).\n",
    "AVERAGE_SERIES_KEY = \"average_series\" # Key for average series data (inside function data)."
   ]
  },
  {
   "cell_type": "code",
   "execution_count": 3,
   "metadata": {},
   "outputs": [],
   "source": [
    "[working_directory] = !pwd\n",
    "sys.path.append(working_directory+\"/\"+SOURCE_FOLDER_PATH) # Allows importing from the source folder.\n",
    "from defined_widgets import *\n",
    "from defined_lab_functions import *"
   ]
  },
  {
   "cell_type": "markdown",
   "metadata": {
    "tags": []
   },
   "source": [
    "### Infrastructure functions"
   ]
  },
  {
   "cell_type": "code",
   "execution_count": 4,
   "metadata": {},
   "outputs": [],
   "source": [
    "def get_current_pathname(filetype: str) -> str:\n",
    "    \"\"\"Returns up-to-date pathname for JSON or PDF file.\n",
    "    If the widgets used to generate pathname are not filled yet, returns a temporary pathname.\n",
    "    If these widgets are filled, returns pathname constructed using widget values.\n",
    "\n",
    "    Args:\n",
    "        filetype (str): Specifies the filetype to return pathname for. Possible values are \"pdf\" and \"json\".\n",
    "    \"\"\"\n",
    "    assert filetype in [\"pdf\", \"json\"], \"Supported filetypes are 'pdf' and 'json'.\"\n",
    "    name = TEMPORARY_NAME\n",
    "    characters_to_replace = \"\"\"!@#$%^&*()_+=[]{}?<>~№.,;:\"`' \"\"\" # |\\/ are not replaced\n",
    "    \n",
    "    try:\n",
    "        lot_widget_value = lot.value         # Get widget values (strings).\n",
    "        id_widget_value = experiment_id.value \n",
    "        for character in characters_to_replace:\n",
    "            lot_widget_value = lot_widget_value.replace(character, \"\")\n",
    "            id_widget_value = id_widget_value.replace(character, \"\")\n",
    "    \n",
    "        if lot_widget_value != \"\" and id_widget_value != \"\":\n",
    "            today = str(date.today()).replace(\"-\", \"\")\n",
    "            name = \"{}_{}_{}\".format(today, lot_widget_value, id_widget_value)  # Full name.\n",
    "    finally:\n",
    "        match filetype:\n",
    "            case \"json\":\n",
    "                return \"{}/{}.json\".format(JSON_FOLDER_PATH, name)\n",
    "            case \"pdf\":\n",
    "                return \"{}/{}.pdf\".format(PDF_FOLDER_PATH, name)\n",
    "\n",
    "# # Usage example:\n",
    "# get_current_pathname(\"json\")\n",
    "# # Now change values of lot and experiment_id widgets and try again."
   ]
  },
  {
   "cell_type": "code",
   "execution_count": 5,
   "metadata": {
    "tags": []
   },
   "outputs": [],
   "source": [
    "def generate_touch_json() -> FunctionType:\n",
    "    \"\"\"Returns a touch_json function.\n",
    "    Contains a closure with a nonlocal variable used as a container for the previous JSON pathname.\n",
    "    \"\"\"\n",
    "    # Removes temporary JSON file on the initial function call:\n",
    "    json_temporary_pathname = \"{}/{}.json\".format(JSON_FOLDER_PATH, TEMPORARY_NAME)\n",
    "    if os.path.exists(json_temporary_pathname):\n",
    "        os.remove(json_temporary_pathname)\n",
    "\n",
    "    old_json_pathname = get_current_pathname(\"json\") # Initial value for a nonlocal variable\n",
    "\n",
    "    def touch_json():\n",
    "        \"\"\"Creates or renames JSON file if necessary.\n",
    "        If JSON file with an up-to-date pathname already exists, this function does nothing.\n",
    "        \"\"\"\n",
    "        nonlocal old_json_pathname\n",
    "        novel_json_pathname = get_current_pathname(\"json\")\n",
    "        \n",
    "        if os.path.exists(old_json_pathname) and os.path.exists(novel_json_pathname) and old_json_pathname != novel_json_pathname:\n",
    "            shutil.move(novel_json_pathname, novel_json_pathname.removesuffix(\".json\") + \"-CONFLICTING.json\")\n",
    "            os.rename(old_json_pathname, novel_json_pathname)\n",
    "            \n",
    "        # If JSON file with a novel pathname does not exist, but the old one does, then rename. Renaming is done to keep data.\n",
    "        if os.path.exists(old_json_pathname) and not os.path.exists(novel_json_pathname):\n",
    "            os.rename(old_json_pathname, novel_json_pathname)\n",
    "            print(\"File {} renamed to {}\".format(old_json_pathname, novel_json_pathname))\n",
    "\n",
    "        # If JSON file does not exist, then create it (and folder if necessary):\n",
    "        elif not os.path.exists(old_json_pathname) and not os.path.exists(novel_json_pathname):\n",
    "            json_folder = os.path.dirname(novel_json_pathname)\n",
    "            if not os.path.exists(json_folder):\n",
    "                os.makedirs(json_folder)\n",
    "                print(\"Folder {}/ created.\".format(json_folder))\n",
    "            with open(novel_json_pathname, \"a\") as file:\n",
    "                empty_jdict = {\n",
    "                    WIDGET_SECTION_KEY : {},\n",
    "                    FUNCTION_SECTION_KEY: {\n",
    "                        FIRST_SERIES_KEY: {},\n",
    "                        SECOND_SERIES_KEY: {},\n",
    "                        AVERAGE_SERIES_KEY: {},\n",
    "                    }\n",
    "                }\n",
    "                json.dump(empty_jdict, file, indent=4, sort_keys=True)\n",
    "                print(\"File {} created.\".format(novel_json_pathname))\n",
    "\n",
    "        old_json_pathname = novel_json_pathname # Save novel pathname into nonlocal variable\n",
    "    return touch_json\n",
    "\n",
    "touch_json = generate_touch_json()\n",
    "\n",
    "def get_widget_dict() -> dict:\n",
    "    \"\"\"Returns a dict with all defined input widgets.\n",
    "    The items of this dict are {widget_name: widget_object} pairs.\n",
    "    Output widgets and collections of widgets (e.g. widget_output.Output) are not included.\n",
    "    \"\"\"\n",
    "    dict_accumulator = {}\n",
    "    for object_name in list(globals()):\n",
    "        obj = globals().get(object_name)\n",
    "        \n",
    "        if isinstance(obj, widgets.Widget): # Check if the obj is a widget\n",
    "            if not isinstance(obj,          # Check if the widget is not an output widget or a collection of other widgets.\n",
    "                              (widgets.widget_box.HBox,\n",
    "                               widgets.widget_box.VBox,\n",
    "                               widgets.widget_selectioncontainer.Tab,\n",
    "                               widgets.widget_string.Textarea,\n",
    "                               widgets.widget_upload.FileUpload,\n",
    "                               widgets.widget_output.Output)) and object_name[0] != \"_\":            \n",
    "                dict_accumulator[object_name] = obj\n",
    "    return dict_accumulator\n",
    "\n",
    "# # Usage example:\n",
    "# for name, widget in get_widget_dict().items():\n",
    "#     display(widget)\n",
    "\n",
    "# # Usage example:\n",
    "# for name in get_widget_dict().keys():\n",
    "#     print(name)    "
   ]
  },
  {
   "cell_type": "code",
   "execution_count": 6,
   "metadata": {},
   "outputs": [],
   "source": [
    "def deserialize() -> dict:\n",
    "    \"\"\"Returns a dict with data read from JSON.\"\"\"\n",
    "    touch_json()\n",
    "    json_pathname = get_current_pathname(\"json\")\n",
    "    with open(json_pathname, \"r\") as file:\n",
    "        jdict = json.load(file)\n",
    "    return jdict\n",
    "\n",
    "# # Usage example:\n",
    "# deserialize() # Get all data\n",
    "\n",
    "# # Usage example:\n",
    "# deserialize()[WIDGET_SECTION_KEY] # Get data for widgets\n",
    "\n",
    "# # Usage example:\n",
    "# deserialize()[FUNCTION_SECTION_KEY][SECOND_SERIES_KEY] # Get data for second series"
   ]
  },
  {
   "cell_type": "code",
   "execution_count": 7,
   "metadata": {},
   "outputs": [],
   "source": [
    "def serialize(supplied_values: dict, section_key: str | None = None) -> dict:\n",
    "    \"\"\"Writes data to JSON file. Returns a dict with changed items (empty if no changes were made).\n",
    "    \n",
    "    Args:\n",
    "        supplied_dict (dict): Contains items to write in JSON. \n",
    "        section_key (str): Section of JSON to write in. Supported values are WIDGET_SECTION_KEY, FUNCTION_SECTION_KEY, None. \n",
    "    \"\"\"\n",
    "    assert section_key in [None, WIDGET_SECTION_KEY, FUNCTION_SECTION_KEY], \\\n",
    "    \"Supported section_key values are WIDGET_SECTION_KEY, FUNCTION_SECTION_KEY, None.\"\n",
    "    jdict = deserialize()\n",
    "    if section_key:\n",
    "        section = jdict[section_key]\n",
    "    else:\n",
    "        section = jdict\n",
    "    \n",
    "    changes = {}\n",
    "    for key, value in supplied_values.items():\n",
    "        if value != section.get(key):  # If value is not the same, write new value.\n",
    "            changes[key] = value  \n",
    "    section.update(changes)\n",
    "    \n",
    "    json_pathname = get_current_pathname(\"json\")\n",
    "    with open(json_pathname, \"w\") as file:\n",
    "        json.dump(jdict, file, indent=4, sort_keys=True)\n",
    "    return changes\n",
    "\n",
    "# # Usage example:\n",
    "# serialize({\"test_series\":{\"test_name\":{\"nominal_result\":40}}}, section_key = FUNCTION_SECTION_KEY)"
   ]
  },
  {
   "cell_type": "code",
   "execution_count": 8,
   "metadata": {},
   "outputs": [],
   "source": [
    "@dataclass\n",
    "class DataForFunctionCall:\n",
    "    \"\"\"Container for all the information required to execute and log a function call.\n",
    "    \n",
    "    Fields:\n",
    "        fn (FunctionType): Function to calculate, see defined_lab_functions.py for examples of such functions.\n",
    "        args (list): # List of arguments for the fn. Argument could be widget object, or the result of a previous function call, i.e. tuple (fn, key).\n",
    "        key (str): This key determines where in the JSON to write the results (to which series).\n",
    "        decimal_places (None | int): The number of decimal places in the formatted representation of the result.\n",
    "        mask (str): Allows to log results under a different name (mask). Mask must be unique. If None, fn.__name__ will be used to log results, otherwise a mask will be used.\n",
    "        natural_name (None | str): Name to show when printing results.\n",
    "        unit (None | str): Unit to show when printing results.\n",
    "        method (None | str): Method to show when printing results.\n",
    "    \"\"\"\n",
    "    fn: FunctionType \n",
    "    args: list \n",
    "    key: str\n",
    "    decimal_places: None | int = None   # UnionType, which is None or int, default value is None.\n",
    "    mask: str = None\n",
    "    natural_name:  None | str = None\n",
    "    unit: None | str = None\n",
    "    method: None | str = None"
   ]
  },
  {
   "cell_type": "code",
   "execution_count": 9,
   "metadata": {},
   "outputs": [],
   "source": [
    "def prepare_arguments(raw_args: list, jdict: dict, inverse_widget_dict: dict) -> list:\n",
    "    \"\"\"Parses a heterogeneous list of arguments. Returns a list of floats or integers or None's.\n",
    "    \n",
    "    Args:\n",
    "        raw_args (list): Heterogeneous argument list to parse. This list can contain items like\n",
    "            * widget;\n",
    "            * str;\n",
    "            * tuple (FunctionType, str2), representing the result of previous function call. Here str2 is interpreted as a series name;\n",
    "            * tuple (str1, str2), representing the results of previous function calls. Here str1 is interpreted as a name, and str2 as a series name.\n",
    "                \n",
    "        jdict (dict): Data from JSON.\n",
    "        inverse_widget_dict (dict): Reversed version of get_widget_dict() dict.\n",
    "    \"\"\"\n",
    "    arg_accumulator = []\n",
    "    for item in raw_args:\n",
    "        try:\n",
    "            match item:\n",
    "                case widgets.Widget():  #Is item a widget? Then use widget's name as the key and read widget's value from JSON data.\n",
    "                    arg_accumulator.append(jdict[WIDGET_SECTION_KEY][inverse_widget_dict[item]])\n",
    "                case (FunctionType(), str()): # Is item a (function, str) tuple?\n",
    "                    argument_function, argument_call_key = item\n",
    "                    arg_accumulator.append(jdict[FUNCTION_SECTION_KEY][argument_call_key][argument_function.__name__][\"nominal_result\"])\n",
    "                case (str(), str()): # Is item a (str, str) tuple? First str is expected to be a function mask, second str is expected to be a series key.\n",
    "                    argument_function_mask, argument_call_key = item\n",
    "                    arg_accumulator.append(jdict[FUNCTION_SECTION_KEY][argument_call_key][argument_function_mask][\"nominal_result\"])\n",
    "                case str(): # Is item a string? A key from JSON root is expected \n",
    "                    arg_accumulator.append(jdict[item])\n",
    "                case _:\n",
    "                    raise Exception(\"Item {} has type {}, which is not supported.\".format(item, type(item)))\n",
    "        except KeyError: \n",
    "             arg_accumulator.append(None)\n",
    "    return arg_accumulator\n",
    "\n",
    "## Usage example:\n",
    "# serialize({\"test_series\":{\"test_name\":{\"nominal_result\":40}}}, section_key = FUNCTION_SECTION_KEY)\n",
    "# jdict = deserialize()\n",
    "# inverse_widget_dict = {widget_object: name for name, widget_object in get_widget_dict().items()}\n",
    "# prepare_arguments([mass_of_pycnometer_empty_S1, mass_of_pycnometer_with_water_S1, (\"test_name\", \"test_series\")], jdict, inverse_widget_dict)"
   ]
  },
  {
   "cell_type": "code",
   "execution_count": 10,
   "metadata": {},
   "outputs": [],
   "source": [
    "def reduce(raw_number: float, decimal_places: int) -> str:\n",
    "    \"\"\"Returns a number represenatation for printing. Rounds number, but keeps trailing zeros.\"\"\"\n",
    "    formatter = '.{}f'.format(decimal_places)\n",
    "    formatted_result = format(round(raw_number, decimal_places), formatter)        \n",
    "    return formatted_result\n",
    "\n",
    "## Usage example:\n",
    "# reduce(3.14160001, 6)"
   ]
  },
  {
   "cell_type": "code",
   "execution_count": 11,
   "metadata": {},
   "outputs": [],
   "source": [
    "warning_runes = {\n",
    "            quantity_success_message: \"✅\",\n",
    "            quantity_warning_message: \"💧\",\n",
    "            success_message: \"🟢\",\n",
    "            range_message: \"🟡\",\n",
    "            repeatability_message: \"🟠\"\n",
    "    }\n",
    "\n",
    "def execute_function_call(call: DataForFunctionCall) -> str:\n",
    "    \"\"\"Executes one function call. If calculation result is novel, logs the result and return a report string.\"\"\"\n",
    "    function = call.fn\n",
    "    arguments = call.args # The arguments must have already been prepared with prepare_arguments\n",
    "    argcount = function.__code__.co_argcount # Required number of arguments for the function.\n",
    "    variable_names = function.__code__.co_varnames\n",
    "    if call.mask: # If there is a mask, function will be logged using mask.\n",
    "        function_appearance = call.mask\n",
    "    else:\n",
    "        function_appearance = function.__name__\n",
    "    \n",
    "    assert argcount == len(arguments), \"Argument list of {} should contain {} args!\".format(function,  argcount)\n",
    "\n",
    "    # Exception here is sometimes thrown in a normal program flow.\n",
    "    try:\n",
    "        returned_object = function(*arguments) # <-- FUNCTION CALL\n",
    "    except (TypeError, ZeroDivisionError): # Arguments can be zero by default or None.\n",
    "        return None\n",
    "    \n",
    "    if isinstance(returned_object, tuple): # Tuple is expected to be (result, warnings)\n",
    "        result = returned_object[0]\n",
    "        warnings = returned_object[1]\n",
    "        assert isinstance(warnings, list)\n",
    "    else:\n",
    "        result = returned_object\n",
    "        warnings = None\n",
    "        \n",
    "    match result:\n",
    "        case uncertainties.core.Variable(): # Type of result is ufloat\n",
    "            assert isinstance(call.decimal_places, int)\n",
    "            nominal_result = result.nominal_value\n",
    "            uncertainty_reduced = reduce(result.std_dev, call.decimal_places)\n",
    "            result_reduced = reduce(result.nominal_value, call.decimal_places)\n",
    "            formatted_result = \"{} ± {}\".format(result_reduced, uncertainty_reduced)\n",
    "            uncertainty = result.std_dev\n",
    "\n",
    "        case float() | int(): # Type of result is float or int.\n",
    "            nominal_result = result\n",
    "            if isinstance(call.decimal_places, int):\n",
    "                formatted_result = reduce(result, call.decimal_places)\n",
    "            else:\n",
    "                formatted_result = None\n",
    "            uncertainty = None\n",
    "\n",
    "        case NoneType(): # The function called can itself return None.\n",
    "            nominal_result = None\n",
    "            formatted_result = None\n",
    "            uncertainty = None\n",
    "\n",
    "        case _:\n",
    "            raise Exception(\"Unhandled result {} with type {}.\".format(result, type(result)))\n",
    "\n",
    "    calculation_result_dict = {\n",
    "        \"nominal_result\": nominal_result,\n",
    "        \"formatted_result\": formatted_result,\n",
    "        \"uncertainty\": uncertainty,\n",
    "        \"arguments\": dict(zip(variable_names, arguments)),\n",
    "        \"warnings\": warnings,\n",
    "        \"decimal_places\": call.decimal_places,\n",
    "        \"natural_name\": call.natural_name,\n",
    "        \"unit\": call.unit,\n",
    "        \"method\": call.method,\n",
    "    }\n",
    "\n",
    "    jdict = deserialize()\n",
    "    json_pathname = get_current_pathname(\"json\")\n",
    "    \n",
    "    # Exception here is sometimes thrown in a normal program flow.\n",
    "    try: # We try to read data for exactly the same call.\n",
    "        assert jdict[FUNCTION_SECTION_KEY][call.key][function_appearance] == calculation_result_dict  \n",
    "        return None \n",
    "    except Exception: # If exception occurs, the result is novel.\n",
    "        jdict[FUNCTION_SECTION_KEY][call.key][function_appearance] = calculation_result_dict\n",
    "        with open(json_pathname, \"w\") as file:\n",
    "            json.dump(jdict, file, indent=4, sort_keys=True)\n",
    "        \n",
    "        # String formatting for printing to logs.\n",
    "        if formatted_result:\n",
    "            result = formatted_result\n",
    "            \n",
    "        warnings_str = \"\"\n",
    "        if warnings:\n",
    "            for warning in warnings:\n",
    "                warnings_str += warning_runes[warning]\n",
    "        return \"{} ({}): {} ——► {} {}\".format(function_appearance, call.key, arguments, result, warnings_str)"
   ]
  },
  {
   "cell_type": "code",
   "execution_count": 12,
   "metadata": {},
   "outputs": [],
   "source": [
    "def update(call_objects: list[DataForFunctionCall]):\n",
    "    \"\"\"Creates a real-time update+log loop for all DataForFunctionCall objects listed.\n",
    "    On each such update, the while True loop activates and several waves of call calculations can occur.\n",
    "    \n",
    "    Args:\n",
    "        call_objects (list of DataForFunctionCall objects): list of calls to recalculate on each widget update.\n",
    "    \"\"\"\n",
    "    inverse_widget_dict = {widget_object: name for name, widget_object in get_widget_dict().items()}\n",
    "    \n",
    "    def on_value_change(change):\n",
    "        \"\"\"This function is triggered on widget update.\n",
    "        On each such update, the while True loop activates and several waves of calculations can occur.\n",
    "        This function will be bound to widgets to keep track of their updates.\n",
    "        \n",
    "        Args:\n",
    "            change (traitlets.utils.bunch.Bunch): Object with data about widget value change.\n",
    "        \"\"\"\n",
    "        widget_instance = change[\"owner\"] # Widget object that was updated\n",
    "        widget_old_value = change[\"old\"]  # Old value\n",
    "        widget_new_value = change[\"new\"]  # New value\n",
    "        widget_name = inverse_widget_dict[widget_instance]\n",
    "\n",
    "        # Serializing new widget value:\n",
    "        if isinstance(widget_instance, widgets.widget_date.DatePicker):         # DatePicker creates non-serializable date objects, so we format them.\n",
    "            serialize({widget_name:str(widget_new_value)}, WIDGET_SECTION_KEY)  # Example of reverse transformation: date.fromisoformat(\"2022-12-09\")\n",
    "        else:\n",
    "            serialize({widget_name:widget_new_value}, WIDGET_SECTION_KEY) \n",
    "        print(\"Change in widget value:\\n🌱 {}: {} ——► {}\".format(widget_name, widget_old_value, widget_new_value))\n",
    "        print(\"\\n╔═════ Update loop starts ════╗\")\n",
    "    \n",
    "        # The while True loop allows for multiple waves of updates after a single widget value change.\n",
    "        while True:\n",
    "            jdict = deserialize()\n",
    "            reports = []  # Changes reports for this wave of updates.\n",
    "            for call in call_objects: \n",
    "                prepared_arguments = prepare_arguments(call.args, jdict, inverse_widget_dict)\n",
    "                if not all(prepared_arguments): # If not all arguments have been looked up for this function, move on to the next functions.\n",
    "                    continue                    \n",
    "                    \n",
    "                call_copy = copy.copy(call) # Copy is made to avoid modification of the original call object.\n",
    "                call_copy.args = prepared_arguments\n",
    "                reports.append(execute_function_call(call_copy)) # <-- FUNCTION CALL OCCURS INSIDE\n",
    "\n",
    "            if any (reports):\n",
    "                print(\"Changes for updated functions:\")\n",
    "                for report in reports:\n",
    "                    if report:\n",
    "                        print(\"🍁 {}\".format(report))\n",
    "                print(\"\\n\")\n",
    "            else: # If there are no reports, then this is the last wave of updates for the given widget value change.\n",
    "                refresh_output_widgets()\n",
    "                break # Break \"while True\" loop.\n",
    "                \n",
    "    # Binding an on_value_change function to all widgets in get_widget_dict():\n",
    "    for w in get_widget_dict().values(): \n",
    "        w.observe(on_value_change, names='value')"
   ]
  },
  {
   "cell_type": "markdown",
   "metadata": {},
   "source": [
    "### State loading"
   ]
  },
  {
   "cell_type": "code",
   "execution_count": 13,
   "metadata": {
    "tags": []
   },
   "outputs": [],
   "source": [
    "def load_state():\n",
    "    if not json_uploader.value:\n",
    "        raise Exception(\"Please select a JSON file.\")\n",
    "    if os.path.exists(get_current_pathname(\"json\")): # If there is a JSON file, make a copy:\n",
    "        shutil.copy(get_current_pathname(\"json\"), get_current_pathname(\"json\").removesuffix(\".json\") + \"-DUMPED.json\")\n",
    "    \n",
    "    uploaded_file = json_uploader.value[0]\n",
    "    saved_data = json.load(io.BytesIO(uploaded_file.content))\n",
    "    saved_widget_data = saved_data[WIDGET_SECTION_KEY]\n",
    "    number_of_saved_widgets = len(saved_widget_data.keys())\n",
    "\n",
    "    defined_widgets = get_widget_dict()\n",
    "    number_of_loaded_widgets = 0\n",
    "    for saved_widget_name, saved_widget_value in saved_widget_data.items(): \n",
    "        try: \n",
    "            widget_to_handle = defined_widgets[saved_widget_name]\n",
    "            if isinstance(widget_to_handle, widgets.widget_date.DatePicker): # Special handling of date picker widgets is required because date objects are not serializable\n",
    "                 widget_to_handle.value = date.fromisoformat(saved_widget_value) # Reverse transformation from (date string in iso format) to (date object).\n",
    "            elif saved_widget_name == \"experiment_id\": # String are joined to prevent rewriting of existing JSON file.\n",
    "                widget_to_handle.value = saved_widget_value + \"-LOADED\"  # Rewritting can happen if experiment_id and lot widgets and also date became the same as for loaded file.\n",
    "            else:\n",
    "                widget_to_handle.value = saved_widget_value\n",
    "            number_of_loaded_widgets += 1\n",
    "        except:\n",
    "            print(\"The value of widget '{}', ({}) was not loaded into the notebook.\".format(saved_widget_name, saved_widget_value))\n",
    "    print(\"Widget values loaded from JSON: {}/{}.\".format(number_of_loaded_widgets, number_of_saved_widgets))\n",
    "\n",
    "json_uploader_emptyline = widgets.Label(\"\\xa0\")\n",
    "json_uploader_info = widgets.Label(\"To load widget values, select a JSON file and load the state.\")\n",
    "json_uploader = widgets.FileUpload(\n",
    "    accept = \".json\",  # Accepted file extensions\n",
    "    multiple = False,\n",
    "    description = \"Select JSON\",\n",
    "    tooltip='Select a JSON file.',\n",
    ")\n",
    "\n",
    " # Separate button here is used (instead of observing events on json_uploader) because the button allows loading same state several times in a row. \n",
    " # Observing events of json_uploader will not allow this feature: if you try to load the state from the same JSON file twice, it will do nothing.\n",
    " # One possible cause because there is no \"change\" of the json_uploader state when you load the same file twice.\n",
    "\n",
    "json_load_button = widgets.Button(\n",
    "    description=\"Load state\",\n",
    "    button_style=\"warning\",\n",
    "    tooltip='Load state from selected JSON file.',\n",
    ")\n",
    "\n",
    "json_load_button.on_click(lambda _: load_state())"
   ]
  },
  {
   "cell_type": "markdown",
   "metadata": {
    "tags": []
   },
   "source": [
    "### A simple example of defining widgets and functions, serializing and creating update loop"
   ]
  },
  {
   "cell_type": "code",
   "execution_count": 14,
   "metadata": {},
   "outputs": [],
   "source": [
    "# # Widgets for testing:\n",
    "# test_widget1 = widgets.IntSlider(\n",
    "#     description=\"testing_value_1\",\n",
    "#     style=dict(description_width='initial'), layout=dict(width='400px'),\n",
    "# )\n",
    "\n",
    "# test_widget2 = widgets.IntSlider(\n",
    "#     description=\"testing_value_2\",\n",
    "#     style=dict(description_width='initial'), layout=dict(width='400px'),\n",
    "# )\n",
    "\n",
    "# test_widget3 = widgets.IntSlider(\n",
    "#     description=\"testing_value_3\",\n",
    "#     style=dict(description_width='initial'), layout=dict(width='400px'),\n",
    "# )\n",
    "\n",
    "# # Functions for testing:\n",
    "# def test_sum(var_a, var_b, var_c):\n",
    "#     return var_a + var_b + var_c\n",
    "\n",
    "# def test_prod(var_a, var_b):\n",
    "#     return var_a * var_b\n",
    "\n",
    "# def test_power(var_a, var_b):\n",
    "#     return var_a ** var_b\n",
    "\n",
    "# # Serialization of arbitrary data\n",
    "# serialize({\n",
    "#     \"test_const_1\" : 30.6907,\n",
    "#     \"test_const_2\" : 3,\n",
    "# })"
   ]
  },
  {
   "cell_type": "code",
   "execution_count": 15,
   "metadata": {},
   "outputs": [],
   "source": [
    "# for widget in [test_widget1, test_widget2, test_widget3]:\n",
    "#     display(widget)"
   ]
  },
  {
   "cell_type": "code",
   "execution_count": 16,
   "metadata": {
    "tags": []
   },
   "outputs": [],
   "source": [
    "# # Updating functions\n",
    "# update([\n",
    "#     DataForFunctionCall(fn = test_sum, key = FIRST_SERIES_KEY, args = [test_widget1, test_widget2, test_widget3]),\n",
    "#     DataForFunctionCall(fn = test_sum, key = SECOND_SERIES_KEY, args = [test_widget2, test_widget2, test_widget2]),\n",
    "#     DataForFunctionCall(fn = test_power, key = FIRST_SERIES_KEY,  args = [test_widget3, \"test_const_2\"]), \n",
    "#     DataForFunctionCall(fn = test_prod, key = FIRST_SERIES_KEY,  args = [(test_sum, SECOND_SERIES_KEY), (test_power, FIRST_SERIES_KEY)]),\n",
    "# ])"
   ]
  },
  {
   "cell_type": "markdown",
   "metadata": {
    "tags": []
   },
   "source": [
    "### Widget table layout and result printing "
   ]
  },
  {
   "cell_type": "code",
   "execution_count": 17,
   "metadata": {},
   "outputs": [],
   "source": [
    "def get_series_results(series_key: str) -> str:\n",
    "    \"\"\"Returns a string for printing function calculation results.\n",
    "    \n",
    "    Args:\n",
    "        series_key: the key to specify the series to show results for.\n",
    "    \"\"\"\n",
    "    output_string = \"\"\n",
    "    triggered_warnings = set()\n",
    "\n",
    "    data = deserialize()[FUNCTION_SECTION_KEY][series_key]\n",
    "    for name, item in data.items():\n",
    "        if item[\"formatted_result\"]:\n",
    "            result_to_display = item[\"formatted_result\"]\n",
    "        else:\n",
    "            result_to_display = item[\"nominal_result\"]\n",
    "            \n",
    "        warnings_runeword = \"\"\n",
    "        if item[\"warnings\"]:\n",
    "            for warning in item[\"warnings\"]:\n",
    "                triggered_warnings.add(warning)\n",
    "                warnings_runeword += warning_runes[warning]\n",
    "        output_string += \"{}: {} {}\\n\".format(name, result_to_display, warnings_runeword)\n",
    "    return (output_string, triggered_warnings)\n",
    "\n",
    "def refresh_output_widgets():\n",
    "    series1_results, series1_warnings  = get_series_results(FIRST_SERIES_KEY)\n",
    "    series2_results, series2_warnings = get_series_results(SECOND_SERIES_KEY)\n",
    "    series_average_results, series_average_warnings = get_series_results(AVERAGE_SERIES_KEY)\n",
    "    \n",
    "    tab1_output.value = \"SERIES 1 \\n\" + series1_results + \"\\nAVERAGES \\n\" + series_average_results\n",
    "    tab1_warnings = series1_warnings | series_average_warnings\n",
    "    for warning in tab1_warnings:\n",
    "        tab1_output.value += \"\\n\" + warning_runes[warning] + \" \" + str(warning)\n",
    "            \n",
    "    tab2_output.value = \"SERIES 2 \\n\" + series2_results + \"\\nAVERAGES \\n\" + series_average_results\n",
    "    tab2_warnings = series2_warnings | series_average_warnings\n",
    "    for warning in tab2_warnings:\n",
    "        tab2_output.value += \"\\n\" + warning_runes[warning] + \" \" + str(warning)\n",
    "        \n",
    "def select_all():\n",
    "    for widget in printing_widgets_to_functions_map.keys():\n",
    "        widget.value = True\n",
    "\n",
    "def create_workspace():\n",
    "    \"\"\"Creates a table of widgets.\"\"\"\n",
    "    found_widgets = get_widget_dict().items()\n",
    "    \n",
    "    series1_input_widgets = [widget_instance for (name, widget_instance) in found_widgets if \"_S1\" in name]\n",
    "    series2_input_widgets = [widget_instance for (name, widget_instance) in found_widgets if \"_S2\" in name]\n",
    "    print_widgets =         [widget_instance for (name, widget_instance) in found_widgets if \"print\" in name]\n",
    "    \n",
    "    info_input_widgets = [widget_instance for (name, widget_instance) in found_widgets\n",
    "                          if widget_instance not in series1_input_widgets + series2_input_widgets + print_widgets + [tab1_output] + [tab2_output]]\n",
    "    info_input_widgets.insert(21, json_uploader)\n",
    "\n",
    "    info_box = widgets.VBox(info_input_widgets)\n",
    "    series1_box = widgets.HBox([widgets.VBox(series1_input_widgets), tab1_box])\n",
    "    series2_box = widgets.HBox([widgets.VBox(series2_input_widgets), tab2_box])\n",
    "    print_box = widgets.VBox(print_widgets)\n",
    "    \n",
    "    tab = widgets.Tab()\n",
    "    tab.children = [box for box in [info_box, series1_box, series2_box, print_box]]\n",
    "    tab.titles = [\"Info\", \"Series 1\", \"Series 2\", \"Create report\"]\n",
    "\n",
    "    print_pdf_button.on_click(lambda _: generate_pdf())\n",
    "    print_select_all_button.on_click(lambda _: select_all())\n",
    "    return tab"
   ]
  },
  {
   "cell_type": "markdown",
   "metadata": {
    "tags": []
   },
   "source": [
    "### PDF generation"
   ]
  },
  {
   "cell_type": "code",
   "execution_count": 18,
   "metadata": {},
   "outputs": [],
   "source": [
    "# Widgets -> functions mapping (for printing results)\n",
    "printing_widgets_to_functions_map = { \n",
    "print_average_alcohol_content_by_mass: average_alcohol_content_by_mass,\n",
    "print_average_alcohol_content_by_volume: average_alcohol_content_by_volume,\n",
    "print_average_real_extract: average_real_extract,\n",
    "print_average_original_extract: average_original_extract,\n",
    "print_average_apparent_extract: average_apparent_extract,\n",
    "print_average_apparent_degree_of_fermentation: average_apparent_degree_of_fermentation,\n",
    "print_average_real_degree_of_fermentation: average_real_degree_of_fermentation,\n",
    "print_average_specific_gravity_of_beer: average_specific_gravity_of_beer,\n",
    "print_average_original_gravity: average_original_gravity,\n",
    "print_average_beer_pH: average_beer_pH\n",
    "}"
   ]
  },
  {
   "cell_type": "code",
   "execution_count": 19,
   "metadata": {},
   "outputs": [],
   "source": [
    "latex_jinja_env = jinja2.Environment(\n",
    "    variable_start_string = '\\VAR{',\n",
    "    variable_end_string = '}',\n",
    "    line_statement_prefix = '%%',\n",
    "    line_comment_prefix = '%#',\n",
    "    trim_blocks = True,\n",
    "    autoescape = False,\n",
    "    loader = jinja2.FileSystemLoader(os.path.abspath('.'))\n",
    ")\n",
    "\n",
    "def get_tags_with_uncertainty(): \n",
    "    output_list = []\n",
    "    jdict = deserialize()[FUNCTION_SECTION_KEY][AVERAGE_SERIES_KEY]\n",
    "    for name, data in jdict.items():\n",
    "        if data[\"uncertainty\"]:\n",
    "            if data[\"natural_name\"]:\n",
    "                output_list.append(data[\"natural_name\"])\n",
    "            else:\n",
    "                output_list.append(name)\n",
    "    return output_list\n",
    "\n",
    "def escape(string_to_escape: str) -> str: \n",
    "    \"\"\"Escape special Latex characters.\"\"\"\n",
    "    if string_to_escape:\n",
    "        replacements = {\"%\":\"\\%\",\n",
    "                        \"$\":\"\\$\",\n",
    "                        \"{\":\"\\{\",\n",
    "                        \"}\":\"\\}\",\n",
    "                        \"_\":\"\\_\",\n",
    "                        \"&\":\"\\&\",\n",
    "                        \"#\":\"\\#\",\n",
    "                        \"~\":\"\\~{}\",\n",
    "                        \"^\":\"\\^{}\",\n",
    "                        '\"':'\\\\texttt{\"}',\n",
    "                       }\n",
    "        for key, value in replacements.items():\n",
    "            string_to_escape = string_to_escape.replace(key, value)\n",
    "        return string_to_escape\n",
    "    else:\n",
    "        return \"\"\n",
    "\n",
    "def generate_pdf():\n",
    "    \"\"\"Generates a PDF file on call.\"\"\"\n",
    "    current_day =  str(date.today()).replace(\"-\", \"\")\n",
    "    serialize({\"current_day\": current_day})\n",
    "    \n",
    "    function_data = deserialize()[FUNCTION_SECTION_KEY][AVERAGE_SERIES_KEY]\n",
    "    inverse_tag_names = {widget.description:function.__name__ for widget, function in printing_widgets_to_functions_map.items()}\n",
    "    \n",
    "    requested_tags = []\n",
    "    for widget in printing_widgets_to_functions_map.keys():\n",
    "        if widget.value == True:\n",
    "            requested_tags.append(widget.description)\n",
    "    \n",
    "    if not requested_tags:\n",
    "        raise Exception(\"Please select the data to include in the report.\")\n",
    "        \n",
    "    for tag in requested_tags:\n",
    "        try:\n",
    "            function_name = inverse_tag_names[tag]\n",
    "            function_data[function_name][\"formatted_result\"]\n",
    "        except KeyError:\n",
    "            raise Exception(\"Value for '{} ({})' not found.\".format(tag, function_name))\n",
    "\n",
    "    tags_without_accreditation = [widget.description for widget in printing_widgets_to_functions_map.keys()] # Currently all methods are not accredited\n",
    "    tags_with_uncertainty = get_tags_with_uncertainty()\n",
    "\n",
    "    info_for_not_accredited = any(tag in tags_without_accreditation for tag in requested_tags)\n",
    "    info_for_with_uncertainty = any(tag in tags_with_uncertainty for tag in requested_tags)\n",
    "    tags_without_uncertainty = [tag for tag in requested_tags if tag not in tags_with_uncertainty]\n",
    "    info_for_without_uncertainty = any(tag in tags_without_uncertainty for tag in requested_tags)\n",
    "\n",
    "    template = latex_jinja_env.get_template(SOURCE_FOLDER_PATH+'jinja_template.tex')\n",
    "    with open(SOURCE_FOLDER_PATH+\"report.tex\",\"w+\") as file: # Creating .tex file with Jinja2\n",
    "        file.write(template.render(\n",
    "            escape = escape,\n",
    "            requested_tags = requested_tags,\n",
    "            widget = deserialize()[WIDGET_SECTION_KEY],\n",
    "            current_day = current_day,\n",
    "            function_data = function_data,\n",
    "            inverse_tag_names = inverse_tag_names,\n",
    "            \n",
    "            tags_without_accreditation = tags_without_accreditation,\n",
    "            tags_with_uncertainty = tags_with_uncertainty,\n",
    "            tags_without_uncertainty = tags_without_uncertainty,\n",
    "            \n",
    "            # Bools: \n",
    "            info_for_not_accredited = info_for_not_accredited,\n",
    "            info_for_with_uncertainty = info_for_with_uncertainty,\n",
    "            info_for_without_uncertainty = info_for_without_uncertainty,\n",
    "        ))\n",
    "    \n",
    "    # Call shell commands with ipython ✧ﾟ･:* magics *:･ﾟ✧ :\n",
    "    !pdflatex -output-directory {SOURCE_FOLDER_PATH} report.tex # Generate PDF with pdflatex\n",
    "    !pdflatex -output-directory {SOURCE_FOLDER_PATH} report.tex # Second pass\n",
    "    !mkdir -p {PDF_FOLDER_PATH} #Create folder for PDF's if it does not exist\n",
    "    !mv {SOURCE_FOLDER_PATH + \"report.pdf\"} {get_current_pathname(\"pdf\")} #Rename PDF\n",
    "    !open {get_current_pathname(\"pdf\")} #Open PDF"
   ]
  },
  {
   "cell_type": "markdown",
   "metadata": {
    "tags": []
   },
   "source": [
    "### Main update call"
   ]
  },
  {
   "cell_type": "code",
   "execution_count": 20,
   "metadata": {},
   "outputs": [],
   "source": [
    "update([\n",
    "    DataForFunctionCall(fn = mass_of_sample_before_distillation, decimal_places = 2, key = FIRST_SERIES_KEY, args = [mass_of_distillation_flask_with_sample_S1, mass_of_distillation_flask_empty_S1]),\n",
    "    DataForFunctionCall(fn = difference, mask = \"mass_of_distillate\", key = FIRST_SERIES_KEY, decimal_places = 2, args = [mass_of_receiver_flask_after_distillation_S1, mass_of_receiver_flask_empty_S1]),\n",
    "    DataForFunctionCall(fn = difference, mask = \"mass_of_residue_after_distillation\", decimal_places = 2, key = FIRST_SERIES_KEY, args = [mass_of_distillation_flask_after_distillation_S1, mass_of_distillation_flask_empty_S1]),\n",
    "    DataForFunctionCall(fn = specific_gravity_using_pycnometer, mask = \"specific_gravity_of_distillate\", decimal_places = 5, key = FIRST_SERIES_KEY, args = [mass_of_pycnometer_with_distillate_S1, mass_of_pycnometer_empty_S1, mass_of_pycnometer_with_water_S1]),\n",
    "    DataForFunctionCall(fn = alcohol_content_by_mass, decimal_places = 2, key = FIRST_SERIES_KEY, args = [(\"specific_gravity_of_distillate\", FIRST_SERIES_KEY)]),\n",
    "    DataForFunctionCall(fn = specific_gravity_using_pycnometer, mask = \"specific_gravity_of_beer\", decimal_places = 5, key = FIRST_SERIES_KEY, args = [mass_of_pycnometer_with_beer_S1, mass_of_pycnometer_empty_S1, mass_of_pycnometer_with_water_S1]), ###\n",
    "    DataForFunctionCall(fn = alcohol_content_by_volume, decimal_places = 2, key = FIRST_SERIES_KEY, args = [(alcohol_content_by_mass, FIRST_SERIES_KEY), (\"specific_gravity_of_beer\", FIRST_SERIES_KEY)]),\n",
    "    DataForFunctionCall(fn = specific_gravity_using_pycnometer, mask = \"specific_gravity_of_residue\", decimal_places = 5, key = FIRST_SERIES_KEY, args = [mass_of_pycnometer_with_residue_S1, mass_of_pycnometer_empty_S1, mass_of_pycnometer_with_water_S1]),\n",
    "    DataForFunctionCall(fn = extract, mask = \"real_extract\", decimal_places = 2, key = FIRST_SERIES_KEY, args = [(\"specific_gravity_of_residue\", FIRST_SERIES_KEY)]),\n",
    "    DataForFunctionCall(fn = extract, mask = \"apparent_extract\", decimal_places = 2, key = FIRST_SERIES_KEY, args = [(\"specific_gravity_of_beer\", FIRST_SERIES_KEY)]),\n",
    "    DataForFunctionCall(fn = original_extract, decimal_places = 2, key = FIRST_SERIES_KEY, args = [(alcohol_content_by_mass, FIRST_SERIES_KEY), (\"real_extract\", FIRST_SERIES_KEY)]),  \n",
    "    DataForFunctionCall(fn = real_degree_of_fermentation, decimal_places = 1, key = FIRST_SERIES_KEY, args = [(alcohol_content_by_mass, FIRST_SERIES_KEY), (\"real_extract\", FIRST_SERIES_KEY)]),  \n",
    "    DataForFunctionCall(fn = apparent_degree_of_fermentation, decimal_places = 1, key = FIRST_SERIES_KEY, args =  [(original_extract, FIRST_SERIES_KEY), (\"apparent_extract\", FIRST_SERIES_KEY)]),\n",
    "    DataForFunctionCall(fn = spirit_indication, decimal_places = 1, key = FIRST_SERIES_KEY, args = [(\"specific_gravity_of_distillate\", FIRST_SERIES_KEY)]),\n",
    "    DataForFunctionCall(fn = degrees_of_gravity_lost, decimal_places = 1, key = FIRST_SERIES_KEY, args = [(spirit_indication, FIRST_SERIES_KEY)]),\n",
    "    DataForFunctionCall(fn = residue_gravity, decimal_places = 1, key = FIRST_SERIES_KEY, args = [(\"specific_gravity_of_residue\", FIRST_SERIES_KEY)]),\n",
    "    DataForFunctionCall(fn = original_gravity, decimal_places = 1, key = FIRST_SERIES_KEY, args = [(degrees_of_gravity_lost, FIRST_SERIES_KEY), (residue_gravity, FIRST_SERIES_KEY)]),\n",
    "\n",
    "    DataForFunctionCall(fn = mass_of_sample_before_distillation, decimal_places = 2, key = SECOND_SERIES_KEY, args = [mass_of_distillation_flask_with_sample_S2, mass_of_distillation_flask_empty_S2]),\n",
    "    DataForFunctionCall(fn = difference, mask = \"mass_of_distillate\", decimal_places = 2, key = SECOND_SERIES_KEY, args = [mass_of_receiver_flask_after_distillation_S2, mass_of_receiver_flask_empty_S2]),\n",
    "    DataForFunctionCall(fn = difference, mask = \"mass_of_residue_after_distillation\", decimal_places = 2, key = SECOND_SERIES_KEY, args =  [mass_of_distillation_flask_after_distillation_S2, mass_of_distillation_flask_empty_S2]),\n",
    "    DataForFunctionCall(fn = specific_gravity_using_pycnometer, mask = \"specific_gravity_of_distillate\", decimal_places = 5, key = SECOND_SERIES_KEY, args = [mass_of_pycnometer_with_distillate_S2, mass_of_pycnometer_empty_S2, mass_of_pycnometer_with_water_S2]),\n",
    "    DataForFunctionCall(fn = alcohol_content_by_mass, decimal_places = 2, key = SECOND_SERIES_KEY, args = [(\"specific_gravity_of_distillate\", SECOND_SERIES_KEY)]),\n",
    "    DataForFunctionCall(fn = specific_gravity_using_pycnometer, mask = \"specific_gravity_of_beer\", decimal_places = 5, key = SECOND_SERIES_KEY, args = [mass_of_pycnometer_with_beer_S2, mass_of_pycnometer_empty_S2, mass_of_pycnometer_with_water_S2]),\n",
    "    DataForFunctionCall(fn = alcohol_content_by_volume, decimal_places = 2, key = SECOND_SERIES_KEY, args = [(alcohol_content_by_mass, SECOND_SERIES_KEY), (\"specific_gravity_of_beer\", SECOND_SERIES_KEY)]),\n",
    "    DataForFunctionCall(fn = specific_gravity_using_pycnometer, mask = \"specific_gravity_of_residue\", decimal_places = 5, key = SECOND_SERIES_KEY, args = [mass_of_pycnometer_with_residue_S2, mass_of_pycnometer_empty_S2, mass_of_pycnometer_with_water_S2]),\n",
    "    DataForFunctionCall(fn = extract, mask = \"real_extract\", decimal_places = 2, key = SECOND_SERIES_KEY, args = [(\"specific_gravity_of_residue\", SECOND_SERIES_KEY)]),\n",
    "    DataForFunctionCall(fn = extract, mask = \"apparent_extract\", decimal_places = 2, key = SECOND_SERIES_KEY, args = [(\"specific_gravity_of_beer\", SECOND_SERIES_KEY)]),\n",
    "    DataForFunctionCall(fn = original_extract, decimal_places = 2, key = SECOND_SERIES_KEY, args = [(alcohol_content_by_mass, SECOND_SERIES_KEY), (\"real_extract\", SECOND_SERIES_KEY)]),  \n",
    "    DataForFunctionCall(fn = real_degree_of_fermentation, decimal_places = 1, key = SECOND_SERIES_KEY, args = [(alcohol_content_by_mass, SECOND_SERIES_KEY), (\"real_extract\", SECOND_SERIES_KEY)]),  \n",
    "    DataForFunctionCall(fn = apparent_degree_of_fermentation, decimal_places = 1, key = SECOND_SERIES_KEY, args =  [(original_extract, SECOND_SERIES_KEY), (\"apparent_extract\", SECOND_SERIES_KEY)]),\n",
    "    DataForFunctionCall(fn = spirit_indication, decimal_places = 1, key = SECOND_SERIES_KEY, args = [(\"specific_gravity_of_distillate\", SECOND_SERIES_KEY)]),\n",
    "    DataForFunctionCall(fn = degrees_of_gravity_lost, decimal_places = 1, key = SECOND_SERIES_KEY, args = [(spirit_indication, SECOND_SERIES_KEY)]),\n",
    "    DataForFunctionCall(fn = residue_gravity, decimal_places = 1, key = SECOND_SERIES_KEY, args = [(\"specific_gravity_of_residue\", SECOND_SERIES_KEY)]),\n",
    "    DataForFunctionCall(fn = original_gravity, decimal_places = 1, key = SECOND_SERIES_KEY, args = [(degrees_of_gravity_lost, SECOND_SERIES_KEY), (residue_gravity, SECOND_SERIES_KEY)]),\n",
    "    \n",
    "    DataForFunctionCall(fn = average_alcohol_content_by_volume, decimal_places = 2, key = AVERAGE_SERIES_KEY, natural_name = print_average_alcohol_content_by_volume.description, unit=\"% (v/v)\", method = \"9.2.1 EBC\", args = [(alcohol_content_by_volume, FIRST_SERIES_KEY), (alcohol_content_by_volume, SECOND_SERIES_KEY)]),\n",
    "    DataForFunctionCall(fn = average_alcohol_content_by_mass, decimal_places = 2, key = AVERAGE_SERIES_KEY, natural_name = print_average_alcohol_content_by_mass.description, unit=\"% (m/m)\", method = \"9.2.1 EBC\", args = [(alcohol_content_by_mass, FIRST_SERIES_KEY), (alcohol_content_by_mass, SECOND_SERIES_KEY)]),\n",
    "    DataForFunctionCall(fn = average_specific_gravity_of_beer, decimal_places = 5, key = AVERAGE_SERIES_KEY, natural_name = print_average_specific_gravity_of_beer.description, unit=\"\", method = \"9.43.1 EBC\",  args = [(\"specific_gravity_of_beer\", FIRST_SERIES_KEY), (\"specific_gravity_of_beer\", SECOND_SERIES_KEY)]),\n",
    "    DataForFunctionCall(fn = average_original_extract, decimal_places = 2, key = AVERAGE_SERIES_KEY, natural_name = print_average_original_extract.description, unit=\"% Plato\", method = \"9.4 EBC\",  args = [(original_extract, FIRST_SERIES_KEY), (original_extract, SECOND_SERIES_KEY)]),  \n",
    "    DataForFunctionCall(fn = average_real_extract, decimal_places = 2, key = AVERAGE_SERIES_KEY, natural_name = print_average_real_extract.description, unit=\"% Plato\", method = \"9.4 EBC\",   args = [(\"real_extract\", FIRST_SERIES_KEY), (\"real_extract\", SECOND_SERIES_KEY)]),  \n",
    "    DataForFunctionCall(fn = average_apparent_extract, decimal_places = 2, key = AVERAGE_SERIES_KEY, natural_name = print_average_apparent_extract.description, unit=\"% Plato\", method = \"9.4 EBC\",  args = [(\"apparent_extract\", FIRST_SERIES_KEY), (\"apparent_extract\", SECOND_SERIES_KEY)]),  \n",
    "    DataForFunctionCall(fn = average_real_degree_of_fermentation, decimal_places = 1, key = AVERAGE_SERIES_KEY, natural_name = print_average_real_degree_of_fermentation.description, unit=\"%\", method = \"9.5 EBC\",  args = [(real_degree_of_fermentation, FIRST_SERIES_KEY), (real_degree_of_fermentation, SECOND_SERIES_KEY)]),  \n",
    "    DataForFunctionCall(fn = average_apparent_degree_of_fermentation, decimal_places = 1, key = AVERAGE_SERIES_KEY, natural_name = print_average_apparent_degree_of_fermentation.description, unit=\"%\", method = \"Beer-6 ASBC\", args = [(apparent_degree_of_fermentation, FIRST_SERIES_KEY), (apparent_degree_of_fermentation, SECOND_SERIES_KEY)]),\n",
    "    DataForFunctionCall(fn = average_original_gravity, decimal_places = 1, key = AVERAGE_SERIES_KEY, natural_name = print_average_original_gravity.description, unit=\"°Sacch.\", method = \"9.4 EBC\", args = [(original_gravity, FIRST_SERIES_KEY), (original_gravity, SECOND_SERIES_KEY)]),\n",
    "    DataForFunctionCall(fn = average_beer_pH, decimal_places = 3, key = AVERAGE_SERIES_KEY, natural_name = print_average_beer_pH.description, unit=\"\", method = \"9.35 EBC\", args = [beer_pH_S1, beer_pH_S2]),\n",
    "])"
   ]
  },
  {
   "cell_type": "markdown",
   "metadata": {
    "tags": []
   },
   "source": [
    "## Workspace"
   ]
  },
  {
   "cell_type": "code",
   "execution_count": 21,
   "metadata": {
    "jp-MarkdownHeadingCollapsed": true,
    "tags": []
   },
   "outputs": [
    {
     "data": {
      "application/vnd.jupyter.widget-view+json": {
       "model_id": "99836933ccb140db84d3f13c426283e8",
       "version_major": 2,
       "version_minor": 0
      },
      "text/plain": [
       "Tab(children=(VBox(children=(DatePicker(value=None, description='Date of Analysis', layout=Layout(width='500px…"
      ]
     },
     "execution_count": 21,
     "metadata": {},
     "output_type": "execute_result"
    }
   ],
   "source": [
    "create_workspace()"
   ]
  },
  {
   "cell_type": "code",
   "execution_count": null,
   "metadata": {},
   "outputs": [],
   "source": []
  }
 ],
 "metadata": {
  "kernelspec": {
   "display_name": "Python 3 (ipykernel)",
   "language": "python",
   "name": "python3"
  },
  "language_info": {
   "codemirror_mode": {
    "name": "ipython",
    "version": 3
   },
   "file_extension": ".py",
   "mimetype": "text/x-python",
   "name": "python",
   "nbconvert_exporter": "python",
   "pygments_lexer": "ipython3",
   "version": "3.10.6"
  },
  "vscode": {
   "interpreter": {
    "hash": "cd78fef2128015050713e82ca51c6520b11aee7c9ee8df750520bbbc7384cbaa"
   }
  },
  "widgets": {
   "application/vnd.jupyter.widget-state+json": {
    "state": {
     "02cc1fb711f0449d8ad4929e1199e584": {
      "model_module": "@jupyter-widgets/base",
      "model_module_version": "2.0.0",
      "model_name": "LayoutModel",
      "state": {
       "width": "500px"
      }
     },
     "039a58478ab94d738aac03452009cbf5": {
      "model_module": "@jupyter-widgets/controls",
      "model_module_version": "2.0.0",
      "model_name": "CheckboxModel",
      "state": {
       "description": "Was the temperature of liquid 20 °C (2)?",
       "disabled": false,
       "layout": "IPY_MODEL_39cb6c7cd1ad48bb98a937d85911e395",
       "style": "IPY_MODEL_f3b935cdc4ac4a4c9135f37f12071865",
       "value": false
      }
     },
     "044f3bc6f1de4bbabeca1805599d935a": {
      "model_module": "@jupyter-widgets/controls",
      "model_module_version": "2.0.0",
      "model_name": "TextStyleModel",
      "state": {
       "description_width": "125px",
       "font_size": null,
       "text_color": null
      }
     },
     "05e069932ec944219a29d07e3c72b694": {
      "model_module": "@jupyter-widgets/controls",
      "model_module_version": "2.0.0",
      "model_name": "TextModel",
      "state": {
       "description": "Sampler",
       "layout": "IPY_MODEL_7234e834382c4b83906683c0c251677d",
       "style": "IPY_MODEL_c9c77e9169ca4f7d98288bfed0489450"
      }
     },
     "0774dfc3b47944638f510d0bde1c3f87": {
      "model_module": "@jupyter-widgets/base",
      "model_module_version": "2.0.0",
      "model_name": "LayoutModel",
      "state": {
       "width": "500px"
      }
     },
     "078d25f7af134c24865d935029d7de55": {
      "model_module": "@jupyter-widgets/base",
      "model_module_version": "2.0.0",
      "model_name": "LayoutModel",
      "state": {
       "height": "100%",
       "width": "95%"
      }
     },
     "079db0fd791f4464b1db8d8a87a8eccd": {
      "model_module": "@jupyter-widgets/base",
      "model_module_version": "2.0.0",
      "model_name": "LayoutModel",
      "state": {
       "width": "500px"
      }
     },
     "087e031966ca42ed91afd136bc4db281": {
      "model_module": "@jupyter-widgets/controls",
      "model_module_version": "2.0.0",
      "model_name": "TextStyleModel",
      "state": {
       "description_width": "125px",
       "font_size": null,
       "text_color": null
      }
     },
     "08847887e69140ed8d8a9766801fc473": {
      "model_module": "@jupyter-widgets/base",
      "model_module_version": "2.0.0",
      "model_name": "LayoutModel",
      "state": {
       "height": "100%",
       "width": "95%"
      }
     },
     "0c9c01eef41a4798a2a0d3a8409ff694": {
      "model_module": "@jupyter-widgets/controls",
      "model_module_version": "2.0.0",
      "model_name": "DescriptionStyleModel",
      "state": {
       "description_width": "initial"
      }
     },
     "0d6205921d224c4291e69859bfbcfd1c": {
      "model_module": "@jupyter-widgets/controls",
      "model_module_version": "2.0.0",
      "model_name": "LabelModel",
      "state": {
       "layout": "IPY_MODEL_ab48c89ca4f84d3db6cc520a60837b7a",
       "style": "IPY_MODEL_51a8d0e12b7547228fed813246c58687",
       "value": "                                                  🍀☘️🌱 1 🌱🍀☘️"
      }
     },
     "0e6d7947b72d4c68a78eec04526bd146": {
      "model_module": "@jupyter-widgets/base",
      "model_module_version": "2.0.0",
      "model_name": "LayoutModel",
      "state": {
       "width": "500px"
      }
     },
     "0e73a5a5cc244cbdb3aa2d657d7e12e2": {
      "model_module": "@jupyter-widgets/base",
      "model_module_version": "2.0.0",
      "model_name": "LayoutModel",
      "state": {
       "width": "500px"
      }
     },
     "0f1833e2b7a04270a9b475a50ad1fe74": {
      "model_module": "@jupyter-widgets/controls",
      "model_module_version": "2.0.0",
      "model_name": "SliderStyleModel",
      "state": {
       "description_width": "initial"
      }
     },
     "101986d0049047a1ba44f91f2f89cec6": {
      "model_module": "@jupyter-widgets/controls",
      "model_module_version": "2.0.0",
      "model_name": "DropdownModel",
      "state": {
       "_options_labels": [
        "",
        "True",
        "False"
       ],
       "description": "Was 50 ml of water added to distillation flask?",
       "index": 0,
       "layout": "IPY_MODEL_3efaa350f0b442a29bb37e7b3400dc43",
       "style": "IPY_MODEL_fa26328ae4e148508a3550003284eef6"
      }
     },
     "1272321a135c4c8da4d2de0cc3cf5ea7": {
      "model_module": "@jupyter-widgets/controls",
      "model_module_version": "2.0.0",
      "model_name": "DescriptionStyleModel",
      "state": {
       "description_width": "initial"
      }
     },
     "12888e843b3a497a9ca0302d6d8c32d0": {
      "model_module": "@jupyter-widgets/base",
      "model_module_version": "2.0.0",
      "model_name": "LayoutModel",
      "state": {
       "width": "500px"
      }
     },
     "129b85eed7b744b5ba7768c4b553a73c": {
      "model_module": "@jupyter-widgets/controls",
      "model_module_version": "2.0.0",
      "model_name": "TextModel",
      "state": {
       "description": "Submitting company",
       "layout": "IPY_MODEL_4fed9a4d165b4b779226aaca7e7ce4ef",
       "style": "IPY_MODEL_087e031966ca42ed91afd136bc4db281"
      }
     },
     "140b2f0ad53a471cbc6c63cb6b0bcaec": {
      "model_module": "@jupyter-widgets/controls",
      "model_module_version": "2.0.0",
      "model_name": "CheckboxModel",
      "state": {
       "description": "Was the temperature of liquid 20 °C (3)?",
       "disabled": false,
       "layout": "IPY_MODEL_fdd7f3948e444f2e830a647916b52c80",
       "style": "IPY_MODEL_642f909c31fa4867ada71d2a7f835570",
       "value": false
      }
     },
     "141a6e92b1e346f7949bdf0f5a6fc232": {
      "model_module": "@jupyter-widgets/base",
      "model_module_version": "2.0.0",
      "model_name": "LayoutModel",
      "state": {
       "width": "500px"
      }
     },
     "1437cf49add240a7b3024c2c6ae4ea10": {
      "model_module": "@jupyter-widgets/controls",
      "model_module_version": "2.0.0",
      "model_name": "DescriptionStyleModel",
      "state": {
       "description_width": "initial"
      }
     },
     "15135acf75524075a196bc100236abb2": {
      "model_module": "@jupyter-widgets/base",
      "model_module_version": "2.0.0",
      "model_name": "LayoutModel",
      "state": {
       "height": "455px",
       "width": "450px"
      }
     },
     "15c11144644946989e7e066b2bc0ef83": {
      "model_module": "@jupyter-widgets/base",
      "model_module_version": "2.0.0",
      "model_name": "LayoutModel",
      "state": {}
     },
     "16c2d7706e6147a796fc0d5737b1cbe9": {
      "model_module": "@jupyter-widgets/base",
      "model_module_version": "2.0.0",
      "model_name": "LayoutModel",
      "state": {}
     },
     "174a5b0f02c44f6aaccf58e75f3276e9": {
      "model_module": "@jupyter-widgets/controls",
      "model_module_version": "2.0.0",
      "model_name": "TextStyleModel",
      "state": {
       "description_width": "125px",
       "font_size": null,
       "text_color": null
      }
     },
     "17881d6e2d5842f0828701a6bd334231": {
      "model_module": "@jupyter-widgets/controls",
      "model_module_version": "2.0.0",
      "model_name": "TextStyleModel",
      "state": {
       "description_width": "125px",
       "font_size": null,
       "text_color": null
      }
     },
     "18827c3d069b448c8df6ee0a331b0875": {
      "model_module": "@jupyter-widgets/controls",
      "model_module_version": "2.0.0",
      "model_name": "HBoxModel",
      "state": {
       "children": [
        "IPY_MODEL_d176e5de4ff649fc9a6058355866f07b",
        "IPY_MODEL_cc555056ac974e9e97e1140b4eef019e"
       ],
       "layout": "IPY_MODEL_c794443dd7e144928ecf2e53dc0a0b04"
      }
     },
     "1921cf80f58d4854b5e20e602ba938dd": {
      "model_module": "@jupyter-widgets/controls",
      "model_module_version": "2.0.0",
      "model_name": "TextModel",
      "state": {
       "description": "Product name",
       "layout": "IPY_MODEL_8f59b126fcdb4aa1b9243cc543acc6fa",
       "style": "IPY_MODEL_49906cd4f2df4a4db0d7f11975c1a72a"
      }
     },
     "19beaff3ca7b4faf9d887efceaa136c1": {
      "model_module": "@jupyter-widgets/controls",
      "model_module_version": "2.0.0",
      "model_name": "TextStyleModel",
      "state": {
       "description_width": "125px",
       "font_size": null,
       "text_color": null
      }
     },
     "1cb4d057ae50424ea96da415b5f5f1b4": {
      "model_module": "@jupyter-widgets/controls",
      "model_module_version": "2.0.0",
      "model_name": "TextModel",
      "state": {
       "description": "Experiment ID",
       "layout": "IPY_MODEL_fdfae25a775e41ca90943ec4c4ccd30f",
       "style": "IPY_MODEL_39f9d60a84bb4e51ab3e47f00d0ec609"
      }
     },
     "1d4cb30536c7476190a89533463fdad0": {
      "model_module": "@jupyter-widgets/controls",
      "model_module_version": "2.0.0",
      "model_name": "DropdownModel",
      "state": {
       "_options_labels": [
        "",
        "self-control"
       ],
       "description": "Purpose of testing",
       "index": 0,
       "layout": "IPY_MODEL_c536acd35f294a29a885b744de745c4e",
       "style": "IPY_MODEL_30d38eeaa7374f98a5f20a58581d22f0"
      }
     },
     "1d78a8c561974391924349ffc9be214a": {
      "model_module": "@jupyter-widgets/controls",
      "model_module_version": "2.0.0",
      "model_name": "ButtonModel",
      "state": {
       "button_style": "info",
       "description": "Generate report",
       "layout": "IPY_MODEL_16c2d7706e6147a796fc0d5737b1cbe9",
       "style": "IPY_MODEL_a525370072ac4f0485cf10c67f0e5cee",
       "tooltip": null
      }
     },
     "1deeab061f7247ec8014bff67b87baa8": {
      "model_module": "@jupyter-widgets/controls",
      "model_module_version": "2.0.0",
      "model_name": "FloatTextModel",
      "state": {
       "description": "Mass of pycnometer (with water), g",
       "layout": "IPY_MODEL_fede6d3933884c6ea819246c778a388d",
       "step": 0.01,
       "style": "IPY_MODEL_d0c833cde3c3469bb0ab4f51bb2db283"
      }
     },
     "1ef148cafb1f472181fd4dba90d67ce7": {
      "model_module": "@jupyter-widgets/controls",
      "model_module_version": "2.0.0",
      "model_name": "LabelStyleModel",
      "state": {
       "description_width": "",
       "font_family": null,
       "font_size": null,
       "font_style": null,
       "font_variant": null,
       "font_weight": null,
       "text_color": null,
       "text_decoration": null
      }
     },
     "23dd89fea4f44706adf1fb980337e645": {
      "model_module": "@jupyter-widgets/base",
      "model_module_version": "2.0.0",
      "model_name": "LayoutModel",
      "state": {}
     },
     "23fc788a1f344d709273b2ec175820c6": {
      "model_module": "@jupyter-widgets/controls",
      "model_module_version": "2.0.0",
      "model_name": "DescriptionStyleModel",
      "state": {
       "description_width": "initial"
      }
     },
     "264c9376a0144125a0d257973c8df1da": {
      "model_module": "@jupyter-widgets/base",
      "model_module_version": "2.0.0",
      "model_name": "LayoutModel",
      "state": {}
     },
     "2666ee9d8e8840838fc12b836434c36c": {
      "model_module": "@jupyter-widgets/base",
      "model_module_version": "2.0.0",
      "model_name": "LayoutModel",
      "state": {
       "width": "500px"
      }
     },
     "2b5afb84b4a64318807a3bb322796caf": {
      "model_module": "@jupyter-widgets/base",
      "model_module_version": "2.0.0",
      "model_name": "LayoutModel",
      "state": {
       "width": "500px"
      }
     },
     "2c2ceb0ddf4341479a6142343a8b5eea": {
      "model_module": "@jupyter-widgets/controls",
      "model_module_version": "2.0.0",
      "model_name": "FloatTextModel",
      "state": {
       "description": "Mass of distillation flask (after distillation), g",
       "layout": "IPY_MODEL_bb693e0afceb4f3995eb5707cdfcb9ff",
       "step": 0.01,
       "style": "IPY_MODEL_b78cc7fed4ec4b3c80bc4c259e9cb013"
      }
     },
     "2e03eea9954b424ea09d831675231c22": {
      "model_module": "@jupyter-widgets/controls",
      "model_module_version": "2.0.0",
      "model_name": "VBoxModel",
      "state": {
       "children": [
        "IPY_MODEL_c270f2a604cc47579b5ba73c16ef64f0",
        "IPY_MODEL_980f94b326d444e584a21e9eb8987173",
        "IPY_MODEL_c4fa913527e14995a8e5be3cfd53f845",
        "IPY_MODEL_101986d0049047a1ba44f91f2f89cec6",
        "IPY_MODEL_4ef4fd31251e47deaf36af59b40464ca",
        "IPY_MODEL_d220e1f3b2f04755971add9b629269c9",
        "IPY_MODEL_91159742ca794332af4c4535f1cd9775",
        "IPY_MODEL_df9d074143874339a8aef03fe51551e8",
        "IPY_MODEL_f097082d105f492ca105e113c3d49933",
        "IPY_MODEL_de4daf54a7584400b9b99cc6518284c4",
        "IPY_MODEL_ef24b1e05d7d4f0b8f4e13edb462eb88",
        "IPY_MODEL_df007b949c5b4bfabbd57eebacd30057",
        "IPY_MODEL_f99534a3acdc40ff8bb623412dedf1ae",
        "IPY_MODEL_dc4755ce29504bff92c2ca986d7d21c0",
        "IPY_MODEL_5e5e32df11284c6785f7093117a65d6e",
        "IPY_MODEL_39d0b646a89e4c0f9e364dacad3a375d",
        "IPY_MODEL_039a58478ab94d738aac03452009cbf5",
        "IPY_MODEL_a6831a66ae88400a8fba2158811d4a48",
        "IPY_MODEL_8e775d01521e42a1a4d36d61d03f9049",
        "IPY_MODEL_f15c6b8d2f064edea524ba17b157ee41",
        "IPY_MODEL_3407448f52cd4fc5ac76bc057302897b",
        "IPY_MODEL_ceb3d9f87f8b42ec94353da5f226e2c4",
        "IPY_MODEL_6ab6196735b04b9299fd0249379116b0",
        "IPY_MODEL_0d6205921d224c4291e69859bfbcfd1c"
       ],
       "layout": "IPY_MODEL_9e5f98312fa44e9aa36e5567dcd0ebf8"
      }
     },
     "2fd2e5c4ff6c45cf9d74db6a7a6662bc": {
      "model_module": "@jupyter-widgets/controls",
      "model_module_version": "2.0.0",
      "model_name": "DescriptionStyleModel",
      "state": {
       "description_width": "initial"
      }
     },
     "308e1d3083df47e79d2e4ae26877ff71": {
      "model_module": "@jupyter-widgets/base",
      "model_module_version": "2.0.0",
      "model_name": "LayoutModel",
      "state": {
       "width": "500px"
      }
     },
     "30d38eeaa7374f98a5f20a58581d22f0": {
      "model_module": "@jupyter-widgets/controls",
      "model_module_version": "2.0.0",
      "model_name": "DescriptionStyleModel",
      "state": {
       "description_width": "125px"
      }
     },
     "31741948f86742e1b554923f63ad1c85": {
      "model_module": "@jupyter-widgets/base",
      "model_module_version": "2.0.0",
      "model_name": "LayoutModel",
      "state": {}
     },
     "33eeea76f379453f92c1d8f725919dad": {
      "model_module": "@jupyter-widgets/controls",
      "model_module_version": "2.0.0",
      "model_name": "CheckboxModel",
      "state": {
       "description": "Was the temperature of liquid 20 °C (1)?",
       "disabled": false,
       "layout": "IPY_MODEL_f25610ce7658463a919476327b733be1",
       "style": "IPY_MODEL_b5909afe3b524862b864a1719bb63330",
       "value": false
      }
     },
     "3407448f52cd4fc5ac76bc057302897b": {
      "model_module": "@jupyter-widgets/controls",
      "model_module_version": "2.0.0",
      "model_name": "CheckboxModel",
      "state": {
       "description": "Was distillation time 30-60 minutes?",
       "disabled": false,
       "layout": "IPY_MODEL_fc8af209fe4d4fec9c315dd197516662",
       "style": "IPY_MODEL_ff92785c97a64062bb5c8e658674ec66",
       "value": false
      }
     },
     "34ede17401e14aa7b38aa033e4d65f3e": {
      "model_module": "@jupyter-widgets/base",
      "model_module_version": "2.0.0",
      "model_name": "LayoutModel",
      "state": {
       "width": "500px"
      }
     },
     "37177a1a25914fa6bc99d7ba1f3f4020": {
      "model_module": "@jupyter-widgets/controls",
      "model_module_version": "2.0.0",
      "model_name": "CheckboxModel",
      "state": {
       "description": "Was distillation time 30-60 minutes?",
       "disabled": false,
       "layout": "IPY_MODEL_2666ee9d8e8840838fc12b836434c36c",
       "style": "IPY_MODEL_5317ac36426c4d988427043a2ef9de9c",
       "value": false
      }
     },
     "37348047596643e0a5ebac711117f907": {
      "model_module": "@jupyter-widgets/base",
      "model_module_version": "2.0.0",
      "model_name": "LayoutModel",
      "state": {
       "width": "600px"
      }
     },
     "38348186e5294064916396ca78c7df07": {
      "model_module": "@jupyter-widgets/controls",
      "model_module_version": "2.0.0",
      "model_name": "TextModel",
      "state": {
       "description": "Company address",
       "layout": "IPY_MODEL_02cc1fb711f0449d8ad4929e1199e584",
       "style": "IPY_MODEL_17881d6e2d5842f0828701a6bd334231"
      }
     },
     "39cb6c7cd1ad48bb98a937d85911e395": {
      "model_module": "@jupyter-widgets/base",
      "model_module_version": "2.0.0",
      "model_name": "LayoutModel",
      "state": {
       "width": "500px"
      }
     },
     "39d0b646a89e4c0f9e364dacad3a375d": {
      "model_module": "@jupyter-widgets/controls",
      "model_module_version": "2.0.0",
      "model_name": "CheckboxModel",
      "state": {
       "description": "Was the temperature of liquid 20 °C (1)?",
       "disabled": false,
       "layout": "IPY_MODEL_6852b828262643c2881fd07851971df4",
       "style": "IPY_MODEL_76a359ec94834f0081c172851c6eba16",
       "value": false
      }
     },
     "39ecfdc4df544bcc8ea5753f00695b8f": {
      "model_module": "@jupyter-widgets/base",
      "model_module_version": "2.0.0",
      "model_name": "LayoutModel",
      "state": {
       "width": "500px"
      }
     },
     "39f9d60a84bb4e51ab3e47f00d0ec609": {
      "model_module": "@jupyter-widgets/controls",
      "model_module_version": "2.0.0",
      "model_name": "TextStyleModel",
      "state": {
       "description_width": "125px",
       "font_size": null,
       "text_color": null
      }
     },
     "3b40a12243b240648fb0b7b1e2ac74f9": {
      "model_module": "@jupyter-widgets/controls",
      "model_module_version": "2.0.0",
      "model_name": "TabModel",
      "state": {
       "children": [
        "IPY_MODEL_18827c3d069b448c8df6ee0a331b0875",
        "IPY_MODEL_6951b75005aa472c81329fbdce0f000d",
        "IPY_MODEL_c179ee6914104eeca7a14b904b0d522e",
        "IPY_MODEL_abc9aa5458b54c2393b0ab8276e7f239"
       ],
       "layout": "IPY_MODEL_d2d91593041c4018a4e689a89e3731d6",
       "selected_index": 1,
       "titles": [
        "Main",
        "Series 1",
        "Series 2",
        "Common"
       ]
      }
     },
     "3d227c43d9584b7da79be19d7eca9382": {
      "model_module": "@jupyter-widgets/controls",
      "model_module_version": "2.0.0",
      "model_name": "DescriptionStyleModel",
      "state": {
       "description_width": "initial"
      }
     },
     "3d4f4aafa8ad46df900e9f48172bc1a9": {
      "model_module": "@jupyter-widgets/controls",
      "model_module_version": "2.0.0",
      "model_name": "DescriptionStyleModel",
      "state": {
       "description_width": "initial"
      }
     },
     "3efaa350f0b442a29bb37e7b3400dc43": {
      "model_module": "@jupyter-widgets/base",
      "model_module_version": "2.0.0",
      "model_name": "LayoutModel",
      "state": {
       "width": "500px"
      }
     },
     "3f6b54421b5a4c99b587171aec30a2dd": {
      "model_module": "@jupyter-widgets/base",
      "model_module_version": "2.0.0",
      "model_name": "LayoutModel",
      "state": {
       "width": "500px"
      }
     },
     "40325855c1814a7895858b5e592e9942": {
      "model_module": "@jupyter-widgets/controls",
      "model_module_version": "2.0.0",
      "model_name": "TextModel",
      "state": {
       "description": "Producer",
       "layout": "IPY_MODEL_77ccb838a0c842aab0dc1ae05298be35",
       "style": "IPY_MODEL_174a5b0f02c44f6aaccf58e75f3276e9"
      }
     },
     "41d9ddfba56f40ea9c0f98bde9e57e92": {
      "model_module": "@jupyter-widgets/controls",
      "model_module_version": "2.0.0",
      "model_name": "FloatTextModel",
      "state": {
       "description": "Mass of pycnometer (with distillate), g",
       "layout": "IPY_MODEL_fe85fbdb06534cb298a43e9653de165d",
       "step": 0.01,
       "style": "IPY_MODEL_70a8d456f56340819cdede0a53fb8e83"
      }
     },
     "41ea78db366f4dc5983aa0dff1fd9c81": {
      "model_module": "@jupyter-widgets/controls",
      "model_module_version": "2.0.0",
      "model_name": "FloatTextModel",
      "state": {
       "description": "Mass of receiver flask (empty), g",
       "layout": "IPY_MODEL_79696390d9174f6ca9d2254b4a709203",
       "step": 0.01,
       "style": "IPY_MODEL_f807cbd2dcb043d8ae3beed5e962b463"
      }
     },
     "422e3274dfea42199c84f59d58e76020": {
      "model_module": "@jupyter-widgets/controls",
      "model_module_version": "2.0.0",
      "model_name": "TextStyleModel",
      "state": {
       "description_width": "125px",
       "font_size": null,
       "text_color": null
      }
     },
     "4379e019a523490193f8f496c4f144f3": {
      "model_module": "@jupyter-widgets/base",
      "model_module_version": "2.0.0",
      "model_name": "LayoutModel",
      "state": {
       "width": "500px"
      }
     },
     "44c1f428446c408c9b5e02d264f5d772": {
      "model_module": "@jupyter-widgets/controls",
      "model_module_version": "2.0.0",
      "model_name": "IntSliderModel",
      "state": {
       "behavior": "drag-tap",
       "description": "Temperature in receiver bath, °C",
       "layout": "IPY_MODEL_98c8127d88b84efe903f9f9821c075d5",
       "max": 25,
       "style": "IPY_MODEL_a4e5a24456cc49d09b2bfba541543859"
      }
     },
     "46339fdb018b42a5b5d5e47f571a6509": {
      "model_module": "@jupyter-widgets/controls",
      "model_module_version": "2.0.0",
      "model_name": "TextStyleModel",
      "state": {
       "description_width": "125px",
       "font_size": null,
       "text_color": null
      }
     },
     "4843309dfe704811b2095d42c0bacbff": {
      "model_module": "@jupyter-widgets/controls",
      "model_module_version": "2.0.0",
      "model_name": "DescriptionStyleModel",
      "state": {
       "description_width": "initial"
      }
     },
     "498a5c4333b84dff846edeb78f241f1b": {
      "model_module": "@jupyter-widgets/base",
      "model_module_version": "2.0.0",
      "model_name": "LayoutModel",
      "state": {
       "width": "500px"
      }
     },
     "49906cd4f2df4a4db0d7f11975c1a72a": {
      "model_module": "@jupyter-widgets/controls",
      "model_module_version": "2.0.0",
      "model_name": "TextStyleModel",
      "state": {
       "description_width": "125px",
       "font_size": null,
       "text_color": null
      }
     },
     "4bd12faa4e924b3388d64d223ae7addc": {
      "model_module": "@jupyter-widgets/controls",
      "model_module_version": "2.0.0",
      "model_name": "TextModel",
      "state": {
       "description": "Declared ABV, %",
       "layout": "IPY_MODEL_34ede17401e14aa7b38aa033e4d65f3e",
       "style": "IPY_MODEL_422e3274dfea42199c84f59d58e76020"
      }
     },
     "4cd407184bf648e2b07939fc52cb874e": {
      "model_module": "@jupyter-widgets/controls",
      "model_module_version": "2.0.0",
      "model_name": "CheckboxStyleModel",
      "state": {
       "description_width": "initial"
      }
     },
     "4d6b221c5cf84ef2a9ebef9bd896ab19": {
      "model_module": "@jupyter-widgets/controls",
      "model_module_version": "2.0.0",
      "model_name": "DescriptionStyleModel",
      "state": {
       "description_width": "initial"
      }
     },
     "4ddc6ff91bd746b59e37099dc249335b": {
      "model_module": "@jupyter-widgets/controls",
      "model_module_version": "2.0.0",
      "model_name": "DescriptionStyleModel",
      "state": {
       "description_width": "125px"
      }
     },
     "4e4d7baf75b440458e90bc8f921b2afb": {
      "model_module": "@jupyter-widgets/controls",
      "model_module_version": "2.0.0",
      "model_name": "DescriptionStyleModel",
      "state": {
       "description_width": "initial"
      }
     },
     "4e6593e194804e76a1b8a3b8b8c903f6": {
      "model_module": "@jupyter-widgets/base",
      "model_module_version": "2.0.0",
      "model_name": "LayoutModel",
      "state": {
       "width": "500px"
      }
     },
     "4ef4fd31251e47deaf36af59b40464ca": {
      "model_module": "@jupyter-widgets/controls",
      "model_module_version": "2.0.0",
      "model_name": "FloatTextModel",
      "state": {
       "description": "Mass of receiver flask (empty), g",
       "layout": "IPY_MODEL_f2fb73bcafd64c6e9b15632518397b1f",
       "step": 0.01,
       "style": "IPY_MODEL_8a0a5e7e2c9b4debbd11f1454587e7c1"
      }
     },
     "4fa8216195734d8b9f52734714c5b5f4": {
      "model_module": "@jupyter-widgets/controls",
      "model_module_version": "2.0.0",
      "model_name": "DescriptionStyleModel",
      "state": {
       "description_width": "initial"
      }
     },
     "4fed9a4d165b4b779226aaca7e7ce4ef": {
      "model_module": "@jupyter-widgets/base",
      "model_module_version": "2.0.0",
      "model_name": "LayoutModel",
      "state": {
       "width": "500px"
      }
     },
     "50a599f84e984bb9bee06730ace3c6f5": {
      "model_module": "@jupyter-widgets/controls",
      "model_module_version": "2.0.0",
      "model_name": "FloatTextModel",
      "state": {
       "description": "Mass of pycnometer (with beer), g",
       "layout": "IPY_MODEL_39ecfdc4df544bcc8ea5753f00695b8f",
       "step": 0.01,
       "style": "IPY_MODEL_b21126f25021454f9dc463b298a34a62"
      }
     },
     "50c7498867d74d759eed02723f641508": {
      "model_module": "@jupyter-widgets/controls",
      "model_module_version": "2.0.0",
      "model_name": "CheckboxStyleModel",
      "state": {
       "description_width": "initial"
      }
     },
     "51a8d0e12b7547228fed813246c58687": {
      "model_module": "@jupyter-widgets/controls",
      "model_module_version": "2.0.0",
      "model_name": "LabelStyleModel",
      "state": {
       "description_width": "",
       "font_family": null,
       "font_size": null,
       "font_style": null,
       "font_variant": null,
       "font_weight": null,
       "text_color": null,
       "text_decoration": null
      }
     },
     "5259cea3e19b43d988836c8760fcf7ce": {
      "model_module": "@jupyter-widgets/controls",
      "model_module_version": "2.0.0",
      "model_name": "DescriptionStyleModel",
      "state": {
       "description_width": "initial"
      }
     },
     "5317ac36426c4d988427043a2ef9de9c": {
      "model_module": "@jupyter-widgets/controls",
      "model_module_version": "2.0.0",
      "model_name": "CheckboxStyleModel",
      "state": {
       "description_width": "initial"
      }
     },
     "534075f7f47743d8be534ce9b4d28978": {
      "model_module": "@jupyter-widgets/base",
      "model_module_version": "2.0.0",
      "model_name": "LayoutModel",
      "state": {
       "height": "455px",
       "width": "450px"
      }
     },
     "53431b73cbc44255abb2ab46a4077932": {
      "model_module": "@jupyter-widgets/base",
      "model_module_version": "2.0.0",
      "model_name": "LayoutModel",
      "state": {
       "width": "500px"
      }
     },
     "53a54fcfac0f40aba01d1c8f76a2cc35": {
      "model_module": "@jupyter-widgets/controls",
      "model_module_version": "2.0.0",
      "model_name": "SliderStyleModel",
      "state": {
       "description_width": "initial"
      }
     },
     "54b699bfc7fe491ab9c6869ef7c8058e": {
      "model_module": "@jupyter-widgets/controls",
      "model_module_version": "2.0.0",
      "model_name": "CheckboxStyleModel",
      "state": {
       "description_width": "initial"
      }
     },
     "5515c43f5ae543e595efce1a94ab6b2b": {
      "model_module": "@jupyter-widgets/controls",
      "model_module_version": "2.0.0",
      "model_name": "FloatTextModel",
      "state": {
       "description": "Mass of receiver flask (after distillation), g",
       "layout": "IPY_MODEL_53431b73cbc44255abb2ab46a4077932",
       "step": 0.01,
       "style": "IPY_MODEL_23fc788a1f344d709273b2ec175820c6"
      }
     },
     "5694a3cbf6424ee8a5d0195a6c4144bb": {
      "model_module": "@jupyter-widgets/base",
      "model_module_version": "2.0.0",
      "model_name": "LayoutModel",
      "state": {
       "width": "500px"
      }
     },
     "58989f2cd3514d61a68f95802729ad04": {
      "model_module": "@jupyter-widgets/controls",
      "model_module_version": "2.0.0",
      "model_name": "DescriptionStyleModel",
      "state": {
       "description_width": "125px"
      }
     },
     "58cbcc26f7b2446f880e1a6f947d68c9": {
      "model_module": "@jupyter-widgets/base",
      "model_module_version": "2.0.0",
      "model_name": "LayoutModel",
      "state": {
       "width": "500px"
      }
     },
     "59030e1142814b52a0e56808036d74ca": {
      "model_module": "@jupyter-widgets/controls",
      "model_module_version": "2.0.0",
      "model_name": "CheckboxModel",
      "state": {
       "description": "Was the 1st step of decarbonisation done?",
       "disabled": false,
       "layout": "IPY_MODEL_079db0fd791f4464b1db8d8a87a8eccd",
       "style": "IPY_MODEL_8eaaf911665e4dcbbf4e0967cb417f36",
       "value": false
      }
     },
     "5e5e32df11284c6785f7093117a65d6e": {
      "model_module": "@jupyter-widgets/controls",
      "model_module_version": "2.0.0",
      "model_name": "FloatTextModel",
      "state": {
       "description": "pH value of the beer",
       "layout": "IPY_MODEL_e6257f3ef62a43f9b23639710a07aeb0",
       "step": 0.01,
       "style": "IPY_MODEL_940358253e6e43a1b2337260dc90047e"
      }
     },
     "5f6fb3cda80e40218960d1ed7a77231c": {
      "model_module": "@jupyter-widgets/controls",
      "model_module_version": "2.0.0",
      "model_name": "DescriptionStyleModel",
      "state": {
       "description_width": "initial"
      }
     },
     "6131af88859546269f8cacb5e9d9ebfa": {
      "model_module": "@jupyter-widgets/controls",
      "model_module_version": "2.0.0",
      "model_name": "TextStyleModel",
      "state": {
       "description_width": "",
       "font_size": null,
       "text_color": null
      }
     },
     "642f909c31fa4867ada71d2a7f835570": {
      "model_module": "@jupyter-widgets/controls",
      "model_module_version": "2.0.0",
      "model_name": "CheckboxStyleModel",
      "state": {
       "description_width": "initial"
      }
     },
     "65e29038f75245019fe19bcd0da882ef": {
      "model_module": "@jupyter-widgets/base",
      "model_module_version": "2.0.0",
      "model_name": "LayoutModel",
      "state": {}
     },
     "6630218e574b4f80bd01e9cb8182db7f": {
      "model_module": "@jupyter-widgets/base",
      "model_module_version": "2.0.0",
      "model_name": "LayoutModel",
      "state": {
       "width": "500px"
      }
     },
     "669eea35092c4489956625d18c86153c": {
      "model_module": "@jupyter-widgets/base",
      "model_module_version": "2.0.0",
      "model_name": "LayoutModel",
      "state": {
       "width": "500px"
      }
     },
     "6852b828262643c2881fd07851971df4": {
      "model_module": "@jupyter-widgets/base",
      "model_module_version": "2.0.0",
      "model_name": "LayoutModel",
      "state": {
       "width": "500px"
      }
     },
     "6951b75005aa472c81329fbdce0f000d": {
      "model_module": "@jupyter-widgets/controls",
      "model_module_version": "2.0.0",
      "model_name": "HBoxModel",
      "state": {
       "children": [
        "IPY_MODEL_2e03eea9954b424ea09d831675231c22",
        "IPY_MODEL_73adfd01663c400d9f4e9eb1de446861"
       ],
       "layout": "IPY_MODEL_f08d16c406704d03b96a90799fad9185"
      }
     },
     "6ab6196735b04b9299fd0249379116b0": {
      "model_module": "@jupyter-widgets/controls",
      "model_module_version": "2.0.0",
      "model_name": "IntSliderModel",
      "state": {
       "behavior": "drag-tap",
       "description": "Temperature in receiver bath,",
       "layout": "IPY_MODEL_ad8914de25304af0972b23372945d3ae",
       "max": 25,
       "style": "IPY_MODEL_d906357a716d4f829fe80106ec289a5c",
       "value": 21
      }
     },
     "6d526f1a64894a6992769ecd2313c951": {
      "model_module": "@jupyter-widgets/controls",
      "model_module_version": "2.0.0",
      "model_name": "DescriptionStyleModel",
      "state": {
       "description_width": "initial"
      }
     },
     "6d71d5e81e7a4c5aa6d822f7dc1e9a99": {
      "model_module": "@jupyter-widgets/controls",
      "model_module_version": "2.0.0",
      "model_name": "CheckboxModel",
      "state": {
       "description": "Was the 2nd step of decarbonisation done?",
       "disabled": false,
       "layout": "IPY_MODEL_6630218e574b4f80bd01e9cb8182db7f",
       "style": "IPY_MODEL_78169a1d842f439ca81d3c8776ad944a",
       "value": false
      }
     },
     "6fa10f8549d04ba6bae4c787d7db8953": {
      "model_module": "@jupyter-widgets/controls",
      "model_module_version": "2.0.0",
      "model_name": "TextStyleModel",
      "state": {
       "description_width": "125px",
       "font_size": null,
       "text_color": null
      }
     },
     "70a8d456f56340819cdede0a53fb8e83": {
      "model_module": "@jupyter-widgets/controls",
      "model_module_version": "2.0.0",
      "model_name": "DescriptionStyleModel",
      "state": {
       "description_width": "initial"
      }
     },
     "71a0325c93d14d13ae54df5ec4b667a7": {
      "model_module": "@jupyter-widgets/controls",
      "model_module_version": "2.0.0",
      "model_name": "FloatTextModel",
      "state": {
       "description": "Pycnometer number (series 2)",
       "layout": "IPY_MODEL_2b5afb84b4a64318807a3bb322796caf",
       "step": null,
       "style": "IPY_MODEL_1437cf49add240a7b3024c2c6ae4ea10"
      }
     },
     "7234e834382c4b83906683c0c251677d": {
      "model_module": "@jupyter-widgets/base",
      "model_module_version": "2.0.0",
      "model_name": "LayoutModel",
      "state": {
       "width": "500px"
      }
     },
     "73adfd01663c400d9f4e9eb1de446861": {
      "model_module": "@jupyter-widgets/controls",
      "model_module_version": "2.0.0",
      "model_name": "VBoxModel",
      "state": {
       "children": [
        "IPY_MODEL_d5dc9b69f1644a34805e14a12aae3b09"
       ],
       "layout": "IPY_MODEL_534075f7f47743d8be534ce9b4d28978"
      }
     },
     "76a359ec94834f0081c172851c6eba16": {
      "model_module": "@jupyter-widgets/controls",
      "model_module_version": "2.0.0",
      "model_name": "CheckboxStyleModel",
      "state": {
       "description_width": "initial"
      }
     },
     "77ccb838a0c842aab0dc1ae05298be35": {
      "model_module": "@jupyter-widgets/base",
      "model_module_version": "2.0.0",
      "model_name": "LayoutModel",
      "state": {
       "width": "500px"
      }
     },
     "78169a1d842f439ca81d3c8776ad944a": {
      "model_module": "@jupyter-widgets/controls",
      "model_module_version": "2.0.0",
      "model_name": "CheckboxStyleModel",
      "state": {
       "description_width": "initial"
      }
     },
     "79696390d9174f6ca9d2254b4a709203": {
      "model_module": "@jupyter-widgets/base",
      "model_module_version": "2.0.0",
      "model_name": "LayoutModel",
      "state": {
       "width": "500px"
      }
     },
     "79b412fcb93b45b894c73b0a58d3ea2a": {
      "model_module": "@jupyter-widgets/controls",
      "model_module_version": "2.0.0",
      "model_name": "FloatTextModel",
      "state": {
       "description": "Mass of pycnometer (with residue), g",
       "layout": "IPY_MODEL_b10e156c78d74269816a624bb4cbd4ec",
       "step": 0.01,
       "style": "IPY_MODEL_d0b062a80b3348f0958294eef79f881d"
      }
     },
     "79bb75801f7c4ade8252c593ab18886c": {
      "model_module": "@jupyter-widgets/controls",
      "model_module_version": "2.0.0",
      "model_name": "TextModel",
      "state": {
       "description": "Phone and e-mail",
       "layout": "IPY_MODEL_c967fa0e85c540e586785c43f802824e",
       "style": "IPY_MODEL_6fa10f8549d04ba6bae4c787d7db8953"
      }
     },
     "7d5e15cfeb5e4070ae6ba86151cb1685": {
      "model_module": "@jupyter-widgets/controls",
      "model_module_version": "2.0.0",
      "model_name": "TextModel",
      "state": {
       "description": "Quantity of sample",
       "layout": "IPY_MODEL_4379e019a523490193f8f496c4f144f3",
       "style": "IPY_MODEL_80fd869964f3480ca4c5ea67cfb6a462"
      }
     },
     "7f350030fa164a8093cca30f26991706": {
      "model_module": "@jupyter-widgets/controls",
      "model_module_version": "2.0.0",
      "model_name": "LabelStyleModel",
      "state": {
       "description_width": "",
       "font_family": null,
       "font_size": null,
       "font_style": null,
       "font_variant": null,
       "font_weight": null,
       "text_color": null,
       "text_decoration": null
      }
     },
     "7fd49848aa9a4d7e8d9501c7cc7c1b82": {
      "model_module": "@jupyter-widgets/controls",
      "model_module_version": "2.0.0",
      "model_name": "FloatTextModel",
      "state": {
       "description": "Mass of distillation flask (with sample), g",
       "layout": "IPY_MODEL_0774dfc3b47944638f510d0bde1c3f87",
       "step": 0.01,
       "style": "IPY_MODEL_6d526f1a64894a6992769ecd2313c951"
      }
     },
     "80fd869964f3480ca4c5ea67cfb6a462": {
      "model_module": "@jupyter-widgets/controls",
      "model_module_version": "2.0.0",
      "model_name": "TextStyleModel",
      "state": {
       "description_width": "125px",
       "font_size": null,
       "text_color": null
      }
     },
     "81e298e7c3964a3686080e792d361098": {
      "model_module": "@jupyter-widgets/controls",
      "model_module_version": "2.0.0",
      "model_name": "IntSliderModel",
      "state": {
       "behavior": "drag-tap",
       "description": "Temperature in condenser, °C",
       "layout": "IPY_MODEL_e2ce5db4587d416eb1a8de858e1e10a1",
       "max": 25,
       "style": "IPY_MODEL_53a54fcfac0f40aba01d1c8f76a2cc35"
      }
     },
     "82dac5ef43094361b1d2677c56a2a016": {
      "model_module": "@jupyter-widgets/controls",
      "model_module_version": "2.0.0",
      "model_name": "DropdownModel",
      "state": {
       "_options_labels": [
        "",
        "True",
        "False"
       ],
       "description": "Was 50 ml of water added to distillation flask?",
       "index": 0,
       "layout": "IPY_MODEL_dabea606a80f468e94c452c6c43e7ee7",
       "style": "IPY_MODEL_5f6fb3cda80e40218960d1ed7a77231c"
      }
     },
     "83c87ec9072a4616a177e188ebe5dacf": {
      "model_module": "@jupyter-widgets/controls",
      "model_module_version": "2.0.0",
      "model_name": "VBoxModel",
      "state": {
       "children": [
        "IPY_MODEL_9efdaceedd3d409785257321cfd54eb0",
        "IPY_MODEL_7fd49848aa9a4d7e8d9501c7cc7c1b82",
        "IPY_MODEL_2c2ceb0ddf4341479a6142343a8b5eea",
        "IPY_MODEL_82dac5ef43094361b1d2677c56a2a016",
        "IPY_MODEL_41ea78db366f4dc5983aa0dff1fd9c81",
        "IPY_MODEL_5515c43f5ae543e595efce1a94ab6b2b",
        "IPY_MODEL_83eb1821658742d481018707e4b34af2",
        "IPY_MODEL_b7306be05dc34545a831a77dfd657544",
        "IPY_MODEL_71a0325c93d14d13ae54df5ec4b667a7",
        "IPY_MODEL_eaaabad63572486cae1fb719b16f2ff0",
        "IPY_MODEL_1deeab061f7247ec8014bff67b87baa8",
        "IPY_MODEL_50a599f84e984bb9bee06730ace3c6f5",
        "IPY_MODEL_41d9ddfba56f40ea9c0f98bde9e57e92",
        "IPY_MODEL_79b412fcb93b45b894c73b0a58d3ea2a",
        "IPY_MODEL_aa107efaeb0b49a7bb97d3e6a4b0967b",
        "IPY_MODEL_33eeea76f379453f92c1d8f725919dad",
        "IPY_MODEL_d4f8673f52284ad79c09cf1a7eccb3cc",
        "IPY_MODEL_140b2f0ad53a471cbc6c63cb6b0bcaec",
        "IPY_MODEL_59030e1142814b52a0e56808036d74ca",
        "IPY_MODEL_6d71d5e81e7a4c5aa6d822f7dc1e9a99",
        "IPY_MODEL_37177a1a25914fa6bc99d7ba1f3f4020",
        "IPY_MODEL_81e298e7c3964a3686080e792d361098",
        "IPY_MODEL_44c1f428446c408c9b5e02d264f5d772",
        "IPY_MODEL_bf706caf2a8b44afbb3c410874147569"
       ],
       "layout": "IPY_MODEL_cd59d915eaf34f43ad877ea492087ec2"
      }
     },
     "83eb1821658742d481018707e4b34af2": {
      "model_module": "@jupyter-widgets/controls",
      "model_module_version": "2.0.0",
      "model_name": "DropdownModel",
      "state": {
       "_options_labels": [
        "",
        "True",
        "False"
       ],
       "description": "Was 5 ml of water added to receiver flask?",
       "index": 0,
       "layout": "IPY_MODEL_e00321db0e4d40819b59e21c7c261561",
       "style": "IPY_MODEL_ec105a9cb1e142e69bc4c56754d3827f"
      }
     },
     "846442fb4dfe41be9ba5397153691a00": {
      "model_module": "@jupyter-widgets/controls",
      "model_module_version": "2.0.0",
      "model_name": "DatePickerModel",
      "state": {
       "description": "Date of Analysis",
       "disabled": false,
       "layout": "IPY_MODEL_aa3ee5a3b4614bf3b25188b38dcb9faa",
       "max": null,
       "min": null,
       "step": 1,
       "style": "IPY_MODEL_58989f2cd3514d61a68f95802729ad04"
      }
     },
     "85f2c734b235479b9e2732c1b64ece35": {
      "model_module": "@jupyter-widgets/controls",
      "model_module_version": "2.0.0",
      "model_name": "LabelModel",
      "state": {
       "layout": "IPY_MODEL_cf437a0ab206433e9963928fa4ca330a",
       "style": "IPY_MODEL_c00055fa191042938f6f801600e56994",
       "value": "Select data to include in the report:"
      }
     },
     "8a0a5e7e2c9b4debbd11f1454587e7c1": {
      "model_module": "@jupyter-widgets/controls",
      "model_module_version": "2.0.0",
      "model_name": "DescriptionStyleModel",
      "state": {
       "description_width": "initial"
      }
     },
     "8b2da13fcb65452499150e35f47614e3": {
      "model_module": "@jupyter-widgets/controls",
      "model_module_version": "2.0.0",
      "model_name": "DescriptionStyleModel",
      "state": {
       "description_width": "initial"
      }
     },
     "8c645c863800478ca829ddf1910e7742": {
      "model_module": "@jupyter-widgets/controls",
      "model_module_version": "2.0.0",
      "model_name": "LabelStyleModel",
      "state": {
       "description_width": "",
       "font_family": null,
       "font_size": null,
       "font_style": null,
       "font_variant": null,
       "font_weight": null,
       "text_color": null,
       "text_decoration": null
      }
     },
     "8ce70f8546ed4d2991b0425fc3c60c89": {
      "model_module": "@jupyter-widgets/controls",
      "model_module_version": "2.0.0",
      "model_name": "DescriptionStyleModel",
      "state": {
       "description_width": "125px"
      }
     },
     "8e775d01521e42a1a4d36d61d03f9049": {
      "model_module": "@jupyter-widgets/controls",
      "model_module_version": "2.0.0",
      "model_name": "CheckboxModel",
      "state": {
       "description": "Was the 1st step of decarbonisation done?",
       "disabled": false,
       "layout": "IPY_MODEL_3f6b54421b5a4c99b587171aec30a2dd",
       "style": "IPY_MODEL_4cd407184bf648e2b07939fc52cb874e",
       "value": false
      }
     },
     "8eaaf911665e4dcbbf4e0967cb417f36": {
      "model_module": "@jupyter-widgets/controls",
      "model_module_version": "2.0.0",
      "model_name": "CheckboxStyleModel",
      "state": {
       "description_width": "initial"
      }
     },
     "8f59b126fcdb4aa1b9243cc543acc6fa": {
      "model_module": "@jupyter-widgets/base",
      "model_module_version": "2.0.0",
      "model_name": "LayoutModel",
      "state": {
       "width": "500px"
      }
     },
     "902191b94b5645f5914e016928937b66": {
      "model_module": "@jupyter-widgets/base",
      "model_module_version": "2.0.0",
      "model_name": "LayoutModel",
      "state": {
       "width": "500px"
      }
     },
     "91159742ca794332af4c4535f1cd9775": {
      "model_module": "@jupyter-widgets/controls",
      "model_module_version": "2.0.0",
      "model_name": "DropdownModel",
      "state": {
       "_options_labels": [
        "",
        "True",
        "False"
       ],
       "description": "Was 5 ml of water added to receiver flask?",
       "index": 0,
       "layout": "IPY_MODEL_0e73a5a5cc244cbdb3aa2d657d7e12e2",
       "style": "IPY_MODEL_1272321a135c4c8da4d2de0cc3cf5ea7"
      }
     },
     "940358253e6e43a1b2337260dc90047e": {
      "model_module": "@jupyter-widgets/controls",
      "model_module_version": "2.0.0",
      "model_name": "DescriptionStyleModel",
      "state": {
       "description_width": "initial"
      }
     },
     "980f94b326d444e584a21e9eb8987173": {
      "model_module": "@jupyter-widgets/controls",
      "model_module_version": "2.0.0",
      "model_name": "FloatTextModel",
      "state": {
       "description": "Mass of distillation flask (with sample), g",
       "layout": "IPY_MODEL_308e1d3083df47e79d2e4ae26877ff71",
       "step": 0.01,
       "style": "IPY_MODEL_0c9c01eef41a4798a2a0d3a8409ff694"
      }
     },
     "98c8127d88b84efe903f9f9821c075d5": {
      "model_module": "@jupyter-widgets/base",
      "model_module_version": "2.0.0",
      "model_name": "LayoutModel",
      "state": {
       "width": "500px"
      }
     },
     "9923fa7750f1470f9249d88790dea654": {
      "model_module": "@jupyter-widgets/controls",
      "model_module_version": "2.0.0",
      "model_name": "TagsInputModel",
      "state": {
       "allow_duplicates": false,
       "allowed_tags": [
        "A by volume",
        "A by mass",
        "Specific gravity",
        "Original extract",
        "Real extract",
        "Apparent extract",
        "Real degree of fermentation",
        "Apparent degree of fermentation",
        "Original gravity",
        "pH",
        "Color",
        "Volatile acidity",
        "Bitterness"
       ],
       "description": "Choose data for report",
       "description_allow_html": false,
       "layout": "IPY_MODEL_65e29038f75245019fe19bcd0da882ef",
       "style": "IPY_MODEL_f436d72539854c9da84e4081927a3399"
      }
     },
     "9c2d2a66609c4fe3a73d5af0a6ed4f9c": {
      "model_module": "@jupyter-widgets/controls",
      "model_module_version": "2.0.0",
      "model_name": "TextModel",
      "state": {
       "description": "Comments",
       "layout": "IPY_MODEL_669eea35092c4489956625d18c86153c",
       "style": "IPY_MODEL_19beaff3ca7b4faf9d887efceaa136c1"
      }
     },
     "9d308ddff65e4c4a93ec8fd766c6561b": {
      "model_module": "@jupyter-widgets/controls",
      "model_module_version": "2.0.0",
      "model_name": "DescriptionStyleModel",
      "state": {
       "description_width": "initial"
      }
     },
     "9e2cdd53837e4830b6a93e396c1f56f5": {
      "model_module": "@jupyter-widgets/base",
      "model_module_version": "2.0.0",
      "model_name": "LayoutModel",
      "state": {
       "width": "500px"
      }
     },
     "9e5f98312fa44e9aa36e5567dcd0ebf8": {
      "model_module": "@jupyter-widgets/base",
      "model_module_version": "2.0.0",
      "model_name": "LayoutModel",
      "state": {}
     },
     "9efdaceedd3d409785257321cfd54eb0": {
      "model_module": "@jupyter-widgets/controls",
      "model_module_version": "2.0.0",
      "model_name": "FloatTextModel",
      "state": {
       "description": "Mass of distillation flask (empty), g",
       "layout": "IPY_MODEL_498a5c4333b84dff846edeb78f241f1b",
       "step": 0.01,
       "style": "IPY_MODEL_4e4d7baf75b440458e90bc8f921b2afb"
      }
     },
     "a3118fafbc094fa4af26e53881e221e2": {
      "model_module": "@jupyter-widgets/controls",
      "model_module_version": "2.0.0",
      "model_name": "LabelModel",
      "state": {
       "layout": "IPY_MODEL_c7fb91cbbadd4d4186c7dcffe0298c3c",
       "style": "IPY_MODEL_7f350030fa164a8093cca30f26991706",
       "value": " "
      }
     },
     "a4e5a24456cc49d09b2bfba541543859": {
      "model_module": "@jupyter-widgets/controls",
      "model_module_version": "2.0.0",
      "model_name": "SliderStyleModel",
      "state": {
       "description_width": "initial"
      }
     },
     "a525370072ac4f0485cf10c67f0e5cee": {
      "model_module": "@jupyter-widgets/controls",
      "model_module_version": "2.0.0",
      "model_name": "ButtonStyleModel",
      "state": {
       "font_family": null,
       "font_size": null,
       "font_style": null,
       "font_variant": null,
       "font_weight": null,
       "text_color": null,
       "text_decoration": null
      }
     },
     "a5b82aa86a524ef6b8517e309fea9656": {
      "model_module": "@jupyter-widgets/base",
      "model_module_version": "2.0.0",
      "model_name": "LayoutModel",
      "state": {
       "width": "500px"
      }
     },
     "a6831a66ae88400a8fba2158811d4a48": {
      "model_module": "@jupyter-widgets/controls",
      "model_module_version": "2.0.0",
      "model_name": "CheckboxModel",
      "state": {
       "description": "Was the temperature of liquid 20 °C (3)?",
       "disabled": false,
       "layout": "IPY_MODEL_58cbcc26f7b2446f880e1a6f947d68c9",
       "style": "IPY_MODEL_c2e33323456c466dbcb895a69be1904e",
       "value": false
      }
     },
     "a7cb0efe9cbb417980e6eab18d0331cc": {
      "model_module": "@jupyter-widgets/base",
      "model_module_version": "2.0.0",
      "model_name": "LayoutModel",
      "state": {
       "width": "500px"
      }
     },
     "a8fce6a600c4469a998fed73a68b0f92": {
      "model_module": "@jupyter-widgets/base",
      "model_module_version": "2.0.0",
      "model_name": "LayoutModel",
      "state": {
       "width": "500px"
      }
     },
     "a97daa98dfb543108be0a5b3842e4fef": {
      "model_module": "@jupyter-widgets/base",
      "model_module_version": "2.0.0",
      "model_name": "LayoutModel",
      "state": {
       "width": "500px"
      }
     },
     "a9e673f240ae4804a4aa2f9db9d8e746": {
      "model_module": "@jupyter-widgets/controls",
      "model_module_version": "2.0.0",
      "model_name": "TextareaModel",
      "state": {
       "layout": "IPY_MODEL_078d25f7af134c24865d935029d7de55",
       "style": "IPY_MODEL_6131af88859546269f8cacb5e9d9ebfa",
       "value": "Series 2️⃣ \n\nAverages 🖇️ \n"
      }
     },
     "aa107efaeb0b49a7bb97d3e6a4b0967b": {
      "model_module": "@jupyter-widgets/controls",
      "model_module_version": "2.0.0",
      "model_name": "FloatTextModel",
      "state": {
       "description": "pH value of the beer",
       "layout": "IPY_MODEL_b720dd07147340ddb38d713532b1dea9",
       "step": 0.01,
       "style": "IPY_MODEL_bb14a7f3c6514ca3803d504dca51fc33"
      }
     },
     "aa3ee5a3b4614bf3b25188b38dcb9faa": {
      "model_module": "@jupyter-widgets/base",
      "model_module_version": "2.0.0",
      "model_name": "LayoutModel",
      "state": {
       "width": "500px"
      }
     },
     "ab48c89ca4f84d3db6cc520a60837b7a": {
      "model_module": "@jupyter-widgets/base",
      "model_module_version": "2.0.0",
      "model_name": "LayoutModel",
      "state": {}
     },
     "abc9aa5458b54c2393b0ab8276e7f239": {
      "model_module": "@jupyter-widgets/controls",
      "model_module_version": "2.0.0",
      "model_name": "VBoxModel",
      "state": {
       "layout": "IPY_MODEL_f560dad3388c4f939a25c004eabc7a60"
      }
     },
     "ad04a288deb94658bf37b5e8bf6887a6": {
      "model_module": "@jupyter-widgets/base",
      "model_module_version": "2.0.0",
      "model_name": "LayoutModel",
      "state": {
       "width": "500px"
      }
     },
     "ad8914de25304af0972b23372945d3ae": {
      "model_module": "@jupyter-widgets/base",
      "model_module_version": "2.0.0",
      "model_name": "LayoutModel",
      "state": {
       "width": "500px"
      }
     },
     "b10e156c78d74269816a624bb4cbd4ec": {
      "model_module": "@jupyter-widgets/base",
      "model_module_version": "2.0.0",
      "model_name": "LayoutModel",
      "state": {
       "width": "500px"
      }
     },
     "b21126f25021454f9dc463b298a34a62": {
      "model_module": "@jupyter-widgets/controls",
      "model_module_version": "2.0.0",
      "model_name": "DescriptionStyleModel",
      "state": {
       "description_width": "initial"
      }
     },
     "b53d4620e9114b30883ce94678e94277": {
      "model_module": "@jupyter-widgets/base",
      "model_module_version": "2.0.0",
      "model_name": "LayoutModel",
      "state": {
       "width": "500px"
      }
     },
     "b5909afe3b524862b864a1719bb63330": {
      "model_module": "@jupyter-widgets/controls",
      "model_module_version": "2.0.0",
      "model_name": "CheckboxStyleModel",
      "state": {
       "description_width": "initial"
      }
     },
     "b720dd07147340ddb38d713532b1dea9": {
      "model_module": "@jupyter-widgets/base",
      "model_module_version": "2.0.0",
      "model_name": "LayoutModel",
      "state": {
       "width": "500px"
      }
     },
     "b7306be05dc34545a831a77dfd657544": {
      "model_module": "@jupyter-widgets/controls",
      "model_module_version": "2.0.0",
      "model_name": "LabelModel",
      "state": {
       "layout": "IPY_MODEL_15c11144644946989e7e066b2bc0ef83",
       "style": "IPY_MODEL_1ef148cafb1f472181fd4dba90d67ce7",
       "value": " "
      }
     },
     "b78cc7fed4ec4b3c80bc4c259e9cb013": {
      "model_module": "@jupyter-widgets/controls",
      "model_module_version": "2.0.0",
      "model_name": "DescriptionStyleModel",
      "state": {
       "description_width": "initial"
      }
     },
     "b88338c5e3bf4a2ea7059c42b4aa0bc7": {
      "model_module": "@jupyter-widgets/base",
      "model_module_version": "2.0.0",
      "model_name": "LayoutModel",
      "state": {
       "width": "500px"
      }
     },
     "b95e52eaccfd4da78fe5aa5e8cae2e2d": {
      "model_module": "@jupyter-widgets/controls",
      "model_module_version": "2.0.0",
      "model_name": "LabelStyleModel",
      "state": {
       "description_width": "",
       "font_family": null,
       "font_size": null,
       "font_style": null,
       "font_variant": null,
       "font_weight": null,
       "text_color": null,
       "text_decoration": null
      }
     },
     "bb14a7f3c6514ca3803d504dca51fc33": {
      "model_module": "@jupyter-widgets/controls",
      "model_module_version": "2.0.0",
      "model_name": "DescriptionStyleModel",
      "state": {
       "description_width": "initial"
      }
     },
     "bb693e0afceb4f3995eb5707cdfcb9ff": {
      "model_module": "@jupyter-widgets/base",
      "model_module_version": "2.0.0",
      "model_name": "LayoutModel",
      "state": {
       "width": "500px"
      }
     },
     "bbb0af6b949943d28957c6263cb74ddc": {
      "model_module": "@jupyter-widgets/controls",
      "model_module_version": "2.0.0",
      "model_name": "DescriptionStyleModel",
      "state": {
       "description_width": "initial"
      }
     },
     "bf706caf2a8b44afbb3c410874147569": {
      "model_module": "@jupyter-widgets/controls",
      "model_module_version": "2.0.0",
      "model_name": "LabelModel",
      "state": {
       "layout": "IPY_MODEL_23dd89fea4f44706adf1fb980337e645",
       "style": "IPY_MODEL_b95e52eaccfd4da78fe5aa5e8cae2e2d",
       "value": "                                                  🔮💎🧊 2 🧊💎🔮"
      }
     },
     "c00055fa191042938f6f801600e56994": {
      "model_module": "@jupyter-widgets/controls",
      "model_module_version": "2.0.0",
      "model_name": "LabelStyleModel",
      "state": {
       "description_width": "",
       "font_family": null,
       "font_size": null,
       "font_style": null,
       "font_variant": null,
       "font_weight": null,
       "text_color": null,
       "text_decoration": null
      }
     },
     "c179ee6914104eeca7a14b904b0d522e": {
      "model_module": "@jupyter-widgets/controls",
      "model_module_version": "2.0.0",
      "model_name": "HBoxModel",
      "state": {
       "children": [
        "IPY_MODEL_83c87ec9072a4616a177e188ebe5dacf",
        "IPY_MODEL_e98adc5e5bf34dcca6e1fa315babd9ec"
       ],
       "layout": "IPY_MODEL_31741948f86742e1b554923f63ad1c85"
      }
     },
     "c249206e54644292a30dc01d29768670": {
      "model_module": "@jupyter-widgets/controls",
      "model_module_version": "2.0.0",
      "model_name": "DatePickerModel",
      "state": {
       "description": "Date of sampling",
       "disabled": false,
       "layout": "IPY_MODEL_0e6d7947b72d4c68a78eec04526bd146",
       "max": null,
       "min": null,
       "step": 1,
       "style": "IPY_MODEL_cbd88208245244dba7814acd3f23e2c5"
      }
     },
     "c270f2a604cc47579b5ba73c16ef64f0": {
      "model_module": "@jupyter-widgets/controls",
      "model_module_version": "2.0.0",
      "model_name": "FloatTextModel",
      "state": {
       "description": "Mass of distillation flask (empty), g",
       "layout": "IPY_MODEL_f07c4368bb2745609e8341b027d7e3b3",
       "step": 0.01,
       "style": "IPY_MODEL_bbb0af6b949943d28957c6263cb74ddc"
      }
     },
     "c2e33323456c466dbcb895a69be1904e": {
      "model_module": "@jupyter-widgets/controls",
      "model_module_version": "2.0.0",
      "model_name": "CheckboxStyleModel",
      "state": {
       "description_width": "initial"
      }
     },
     "c4fa913527e14995a8e5be3cfd53f845": {
      "model_module": "@jupyter-widgets/controls",
      "model_module_version": "2.0.0",
      "model_name": "FloatTextModel",
      "state": {
       "description": "Mass of distillation flask (after distillation), g",
       "layout": "IPY_MODEL_141a6e92b1e346f7949bdf0f5a6fc232",
       "step": 0.01,
       "style": "IPY_MODEL_4843309dfe704811b2095d42c0bacbff"
      }
     },
     "c5283e5f4b04431aa5dd938ddae43d86": {
      "model_module": "@jupyter-widgets/base",
      "model_module_version": "2.0.0",
      "model_name": "LayoutModel",
      "state": {
       "width": "500px"
      }
     },
     "c536acd35f294a29a885b744de745c4e": {
      "model_module": "@jupyter-widgets/base",
      "model_module_version": "2.0.0",
      "model_name": "LayoutModel",
      "state": {
       "width": "500px"
      }
     },
     "c794443dd7e144928ecf2e53dc0a0b04": {
      "model_module": "@jupyter-widgets/base",
      "model_module_version": "2.0.0",
      "model_name": "LayoutModel",
      "state": {}
     },
     "c7fb91cbbadd4d4186c7dcffe0298c3c": {
      "model_module": "@jupyter-widgets/base",
      "model_module_version": "2.0.0",
      "model_name": "LayoutModel",
      "state": {}
     },
     "c967fa0e85c540e586785c43f802824e": {
      "model_module": "@jupyter-widgets/base",
      "model_module_version": "2.0.0",
      "model_name": "LayoutModel",
      "state": {
       "width": "500px"
      }
     },
     "c9c77e9169ca4f7d98288bfed0489450": {
      "model_module": "@jupyter-widgets/controls",
      "model_module_version": "2.0.0",
      "model_name": "TextStyleModel",
      "state": {
       "description_width": "125px",
       "font_size": null,
       "text_color": null
      }
     },
     "cbd88208245244dba7814acd3f23e2c5": {
      "model_module": "@jupyter-widgets/controls",
      "model_module_version": "2.0.0",
      "model_name": "DescriptionStyleModel",
      "state": {
       "description_width": "125px"
      }
     },
     "cc555056ac974e9e97e1140b4eef019e": {
      "model_module": "@jupyter-widgets/controls",
      "model_module_version": "2.0.0",
      "model_name": "VBoxModel",
      "state": {
       "children": [
        "IPY_MODEL_129b85eed7b744b5ba7768c4b553a73c",
        "IPY_MODEL_38348186e5294064916396ca78c7df07",
        "IPY_MODEL_cf0227313c064be787539653e7eb7d13",
        "IPY_MODEL_79bb75801f7c4ade8252c593ab18886c",
        "IPY_MODEL_05e069932ec944219a29d07e3c72b694",
        "IPY_MODEL_c249206e54644292a30dc01d29768670",
        "IPY_MODEL_fccc356d46034de2ae0ae51c7a22d7f6",
        "IPY_MODEL_1d4cb30536c7476190a89533463fdad0",
        "IPY_MODEL_d1df0c0ea1644c459136c1ed10b7ecd2",
        "IPY_MODEL_a3118fafbc094fa4af26e53881e221e2",
        "IPY_MODEL_85f2c734b235479b9e2732c1b64ece35",
        "IPY_MODEL_9923fa7750f1470f9249d88790dea654",
        "IPY_MODEL_1d78a8c561974391924349ffc9be214a"
       ],
       "layout": "IPY_MODEL_37348047596643e0a5ebac711117f907"
      }
     },
     "cd59d915eaf34f43ad877ea492087ec2": {
      "model_module": "@jupyter-widgets/base",
      "model_module_version": "2.0.0",
      "model_name": "LayoutModel",
      "state": {}
     },
     "ceb3d9f87f8b42ec94353da5f226e2c4": {
      "model_module": "@jupyter-widgets/controls",
      "model_module_version": "2.0.0",
      "model_name": "IntSliderModel",
      "state": {
       "behavior": "drag-tap",
       "description": "Temperature in condenser, °C",
       "layout": "IPY_MODEL_5694a3cbf6424ee8a5d0195a6c4144bb",
       "max": 25,
       "style": "IPY_MODEL_0f1833e2b7a04270a9b475a50ad1fe74",
       "value": 11
      }
     },
     "cf0227313c064be787539653e7eb7d13": {
      "model_module": "@jupyter-widgets/controls",
      "model_module_version": "2.0.0",
      "model_name": "TextModel",
      "state": {
       "description": "Contact person",
       "layout": "IPY_MODEL_b53d4620e9114b30883ce94678e94277",
       "style": "IPY_MODEL_044f3bc6f1de4bbabeca1805599d935a"
      }
     },
     "cf437a0ab206433e9963928fa4ca330a": {
      "model_module": "@jupyter-widgets/base",
      "model_module_version": "2.0.0",
      "model_name": "LayoutModel",
      "state": {}
     },
     "d0b062a80b3348f0958294eef79f881d": {
      "model_module": "@jupyter-widgets/controls",
      "model_module_version": "2.0.0",
      "model_name": "DescriptionStyleModel",
      "state": {
       "description_width": "initial"
      }
     },
     "d0c833cde3c3469bb0ab4f51bb2db283": {
      "model_module": "@jupyter-widgets/controls",
      "model_module_version": "2.0.0",
      "model_name": "DescriptionStyleModel",
      "state": {
       "description_width": "initial"
      }
     },
     "d176e5de4ff649fc9a6058355866f07b": {
      "model_module": "@jupyter-widgets/controls",
      "model_module_version": "2.0.0",
      "model_name": "VBoxModel",
      "state": {
       "children": [
        "IPY_MODEL_846442fb4dfe41be9ba5397153691a00",
        "IPY_MODEL_1cb4d057ae50424ea96da415b5f5f1b4",
        "IPY_MODEL_e7bcce1289f1483b8f4a1b6abbfae605",
        "IPY_MODEL_1921cf80f58d4854b5e20e602ba938dd",
        "IPY_MODEL_40325855c1814a7895858b5e592e9942",
        "IPY_MODEL_d8e087f0e2b74fcdaac5e280247375ee",
        "IPY_MODEL_4bd12faa4e924b3388d64d223ae7addc",
        "IPY_MODEL_7d5e15cfeb5e4070ae6ba86151cb1685",
        "IPY_MODEL_9c2d2a66609c4fe3a73d5af0a6ed4f9c"
       ],
       "layout": "IPY_MODEL_37348047596643e0a5ebac711117f907"
      }
     },
     "d1df0c0ea1644c459136c1ed10b7ecd2": {
      "model_module": "@jupyter-widgets/controls",
      "model_module_version": "2.0.0",
      "model_name": "DropdownModel",
      "state": {
       "_options_labels": [
        "",
        "via e-mail",
        "by mail",
        "by courier"
       ],
       "description": "Results will be sent",
       "index": 0,
       "layout": "IPY_MODEL_d6a7436de67442cea81da8696af3f5f0",
       "style": "IPY_MODEL_e314b9f757ef4066a656bd92f3527f33"
      }
     },
     "d220e1f3b2f04755971add9b629269c9": {
      "model_module": "@jupyter-widgets/controls",
      "model_module_version": "2.0.0",
      "model_name": "FloatTextModel",
      "state": {
       "description": "Mass of receiver flask (after distillation), g",
       "layout": "IPY_MODEL_e258f9de811d4e9dae2269f90693a21b",
       "step": 0.01,
       "style": "IPY_MODEL_2fd2e5c4ff6c45cf9d74db6a7a6662bc"
      }
     },
     "d2d91593041c4018a4e689a89e3731d6": {
      "model_module": "@jupyter-widgets/base",
      "model_module_version": "2.0.0",
      "model_name": "LayoutModel",
      "state": {}
     },
     "d4f8673f52284ad79c09cf1a7eccb3cc": {
      "model_module": "@jupyter-widgets/controls",
      "model_module_version": "2.0.0",
      "model_name": "CheckboxModel",
      "state": {
       "description": "Was the temperature of liquid 20 °C (2)?",
       "disabled": false,
       "layout": "IPY_MODEL_4e6593e194804e76a1b8a3b8b8c903f6",
       "style": "IPY_MODEL_54b699bfc7fe491ab9c6869ef7c8058e",
       "value": false
      }
     },
     "d5dc9b69f1644a34805e14a12aae3b09": {
      "model_module": "@jupyter-widgets/controls",
      "model_module_version": "2.0.0",
      "model_name": "TextareaModel",
      "state": {
       "layout": "IPY_MODEL_08847887e69140ed8d8a9766801fc473",
       "style": "IPY_MODEL_e572134a44bf45d7875aab5f1333474f",
       "value": "Series 1️⃣ \napparent_extract: -2207.34 \nspecific_gravity_of_beer: 5.00000 \n\nAverages 🖇️ \n"
      }
     },
     "d6a7436de67442cea81da8696af3f5f0": {
      "model_module": "@jupyter-widgets/base",
      "model_module_version": "2.0.0",
      "model_name": "LayoutModel",
      "state": {
       "width": "500px"
      }
     },
     "d8e087f0e2b74fcdaac5e280247375ee": {
      "model_module": "@jupyter-widgets/controls",
      "model_module_version": "2.0.0",
      "model_name": "TextModel",
      "state": {
       "description": "Lot",
       "layout": "IPY_MODEL_c5283e5f4b04431aa5dd938ddae43d86",
       "style": "IPY_MODEL_46339fdb018b42a5b5d5e47f571a6509"
      }
     },
     "d906357a716d4f829fe80106ec289a5c": {
      "model_module": "@jupyter-widgets/controls",
      "model_module_version": "2.0.0",
      "model_name": "SliderStyleModel",
      "state": {
       "description_width": "initial"
      }
     },
     "dabea606a80f468e94c452c6c43e7ee7": {
      "model_module": "@jupyter-widgets/base",
      "model_module_version": "2.0.0",
      "model_name": "LayoutModel",
      "state": {
       "width": "500px"
      }
     },
     "dc4755ce29504bff92c2ca986d7d21c0": {
      "model_module": "@jupyter-widgets/controls",
      "model_module_version": "2.0.0",
      "model_name": "FloatTextModel",
      "state": {
       "description": "Mass of pycnometer (with residue), g",
       "layout": "IPY_MODEL_a5b82aa86a524ef6b8517e309fea9656",
       "step": 0.01,
       "style": "IPY_MODEL_9d308ddff65e4c4a93ec8fd766c6561b"
      }
     },
     "de4daf54a7584400b9b99cc6518284c4": {
      "model_module": "@jupyter-widgets/controls",
      "model_module_version": "2.0.0",
      "model_name": "FloatTextModel",
      "state": {
       "description": "Mass of pycnometer (empty), g",
       "layout": "IPY_MODEL_902191b94b5645f5914e016928937b66",
       "step": 0.01,
       "style": "IPY_MODEL_3d227c43d9584b7da79be19d7eca9382",
       "value": 0.57
      }
     },
     "df007b949c5b4bfabbd57eebacd30057": {
      "model_module": "@jupyter-widgets/controls",
      "model_module_version": "2.0.0",
      "model_name": "FloatTextModel",
      "state": {
       "description": "Mass of pycnometer (with beer), g",
       "layout": "IPY_MODEL_a97daa98dfb543108be0a5b3842e4fef",
       "step": 0.01,
       "style": "IPY_MODEL_3d4f4aafa8ad46df900e9f48172bc1a9",
       "value": 0.42
      }
     },
     "df9d074143874339a8aef03fe51551e8": {
      "model_module": "@jupyter-widgets/controls",
      "model_module_version": "2.0.0",
      "model_name": "LabelModel",
      "state": {
       "layout": "IPY_MODEL_264c9376a0144125a0d257973c8df1da",
       "style": "IPY_MODEL_8c645c863800478ca829ddf1910e7742",
       "value": " "
      }
     },
     "e00321db0e4d40819b59e21c7c261561": {
      "model_module": "@jupyter-widgets/base",
      "model_module_version": "2.0.0",
      "model_name": "LayoutModel",
      "state": {
       "width": "500px"
      }
     },
     "e258f9de811d4e9dae2269f90693a21b": {
      "model_module": "@jupyter-widgets/base",
      "model_module_version": "2.0.0",
      "model_name": "LayoutModel",
      "state": {
       "width": "500px"
      }
     },
     "e2ce5db4587d416eb1a8de858e1e10a1": {
      "model_module": "@jupyter-widgets/base",
      "model_module_version": "2.0.0",
      "model_name": "LayoutModel",
      "state": {
       "width": "500px"
      }
     },
     "e314b9f757ef4066a656bd92f3527f33": {
      "model_module": "@jupyter-widgets/controls",
      "model_module_version": "2.0.0",
      "model_name": "DescriptionStyleModel",
      "state": {
       "description_width": "125px"
      }
     },
     "e572134a44bf45d7875aab5f1333474f": {
      "model_module": "@jupyter-widgets/controls",
      "model_module_version": "2.0.0",
      "model_name": "TextStyleModel",
      "state": {
       "description_width": "",
       "font_size": null,
       "text_color": null
      }
     },
     "e6257f3ef62a43f9b23639710a07aeb0": {
      "model_module": "@jupyter-widgets/base",
      "model_module_version": "2.0.0",
      "model_name": "LayoutModel",
      "state": {
       "width": "500px"
      }
     },
     "e7bcce1289f1483b8f4a1b6abbfae605": {
      "model_module": "@jupyter-widgets/controls",
      "model_module_version": "2.0.0",
      "model_name": "DropdownModel",
      "state": {
       "_options_labels": [
        "",
        "D. Nechaeva",
        "S. Raik",
        "E. Barannik"
       ],
       "description": "Analyst name",
       "index": 0,
       "layout": "IPY_MODEL_12888e843b3a497a9ca0302d6d8c32d0",
       "style": "IPY_MODEL_8ce70f8546ed4d2991b0425fc3c60c89"
      }
     },
     "e98adc5e5bf34dcca6e1fa315babd9ec": {
      "model_module": "@jupyter-widgets/controls",
      "model_module_version": "2.0.0",
      "model_name": "VBoxModel",
      "state": {
       "children": [
        "IPY_MODEL_a9e673f240ae4804a4aa2f9db9d8e746"
       ],
       "layout": "IPY_MODEL_15135acf75524075a196bc100236abb2"
      }
     },
     "eaaabad63572486cae1fb719b16f2ff0": {
      "model_module": "@jupyter-widgets/controls",
      "model_module_version": "2.0.0",
      "model_name": "FloatTextModel",
      "state": {
       "description": "Mass of pycnometer (empty), g",
       "layout": "IPY_MODEL_9e2cdd53837e4830b6a93e396c1f56f5",
       "step": 0.01,
       "style": "IPY_MODEL_8b2da13fcb65452499150e35f47614e3"
      }
     },
     "ec105a9cb1e142e69bc4c56754d3827f": {
      "model_module": "@jupyter-widgets/controls",
      "model_module_version": "2.0.0",
      "model_name": "DescriptionStyleModel",
      "state": {
       "description_width": "initial"
      }
     },
     "ef24b1e05d7d4f0b8f4e13edb462eb88": {
      "model_module": "@jupyter-widgets/controls",
      "model_module_version": "2.0.0",
      "model_name": "FloatTextModel",
      "state": {
       "description": "Mass of pycnometer (with water), g",
       "layout": "IPY_MODEL_b88338c5e3bf4a2ea7059c42b4aa0bc7",
       "step": 0.01,
       "style": "IPY_MODEL_4fa8216195734d8b9f52734714c5b5f4",
       "value": 0.54
      }
     },
     "f07c4368bb2745609e8341b027d7e3b3": {
      "model_module": "@jupyter-widgets/base",
      "model_module_version": "2.0.0",
      "model_name": "LayoutModel",
      "state": {
       "width": "500px"
      }
     },
     "f08d16c406704d03b96a90799fad9185": {
      "model_module": "@jupyter-widgets/base",
      "model_module_version": "2.0.0",
      "model_name": "LayoutModel",
      "state": {}
     },
     "f097082d105f492ca105e113c3d49933": {
      "model_module": "@jupyter-widgets/controls",
      "model_module_version": "2.0.0",
      "model_name": "FloatTextModel",
      "state": {
       "description": "Pycnometer number (series 1)",
       "layout": "IPY_MODEL_ad04a288deb94658bf37b5e8bf6887a6",
       "step": null,
       "style": "IPY_MODEL_4d6b221c5cf84ef2a9ebef9bd896ab19"
      }
     },
     "f15c6b8d2f064edea524ba17b157ee41": {
      "model_module": "@jupyter-widgets/controls",
      "model_module_version": "2.0.0",
      "model_name": "CheckboxModel",
      "state": {
       "description": "Was the 2nd step of decarbonisation done?",
       "disabled": false,
       "layout": "IPY_MODEL_f66196efb2b243509a53ae8cdf7baa7b",
       "style": "IPY_MODEL_50c7498867d74d759eed02723f641508",
       "value": false
      }
     },
     "f25610ce7658463a919476327b733be1": {
      "model_module": "@jupyter-widgets/base",
      "model_module_version": "2.0.0",
      "model_name": "LayoutModel",
      "state": {
       "width": "500px"
      }
     },
     "f2fb73bcafd64c6e9b15632518397b1f": {
      "model_module": "@jupyter-widgets/base",
      "model_module_version": "2.0.0",
      "model_name": "LayoutModel",
      "state": {
       "width": "500px"
      }
     },
     "f3b935cdc4ac4a4c9135f37f12071865": {
      "model_module": "@jupyter-widgets/controls",
      "model_module_version": "2.0.0",
      "model_name": "CheckboxStyleModel",
      "state": {
       "description_width": "initial"
      }
     },
     "f436d72539854c9da84e4081927a3399": {
      "model_module": "@jupyter-widgets/controls",
      "model_module_version": "2.0.0",
      "model_name": "DescriptionStyleModel",
      "state": {
       "description_width": ""
      }
     },
     "f560dad3388c4f939a25c004eabc7a60": {
      "model_module": "@jupyter-widgets/base",
      "model_module_version": "2.0.0",
      "model_name": "LayoutModel",
      "state": {}
     },
     "f66196efb2b243509a53ae8cdf7baa7b": {
      "model_module": "@jupyter-widgets/base",
      "model_module_version": "2.0.0",
      "model_name": "LayoutModel",
      "state": {
       "width": "500px"
      }
     },
     "f807cbd2dcb043d8ae3beed5e962b463": {
      "model_module": "@jupyter-widgets/controls",
      "model_module_version": "2.0.0",
      "model_name": "DescriptionStyleModel",
      "state": {
       "description_width": "initial"
      }
     },
     "f99534a3acdc40ff8bb623412dedf1ae": {
      "model_module": "@jupyter-widgets/controls",
      "model_module_version": "2.0.0",
      "model_name": "FloatTextModel",
      "state": {
       "description": "Mass of pycnometer (with distillate), g",
       "layout": "IPY_MODEL_a8fce6a600c4469a998fed73a68b0f92",
       "step": 0.01,
       "style": "IPY_MODEL_5259cea3e19b43d988836c8760fcf7ce"
      }
     },
     "fa26328ae4e148508a3550003284eef6": {
      "model_module": "@jupyter-widgets/controls",
      "model_module_version": "2.0.0",
      "model_name": "DescriptionStyleModel",
      "state": {
       "description_width": "initial"
      }
     },
     "fc8af209fe4d4fec9c315dd197516662": {
      "model_module": "@jupyter-widgets/base",
      "model_module_version": "2.0.0",
      "model_name": "LayoutModel",
      "state": {
       "width": "500px"
      }
     },
     "fccc356d46034de2ae0ae51c7a22d7f6": {
      "model_module": "@jupyter-widgets/controls",
      "model_module_version": "2.0.0",
      "model_name": "DatePickerModel",
      "state": {
       "description": "Date of arrival",
       "disabled": false,
       "layout": "IPY_MODEL_a7cb0efe9cbb417980e6eab18d0331cc",
       "max": null,
       "min": null,
       "step": 1,
       "style": "IPY_MODEL_4ddc6ff91bd746b59e37099dc249335b"
      }
     },
     "fdd7f3948e444f2e830a647916b52c80": {
      "model_module": "@jupyter-widgets/base",
      "model_module_version": "2.0.0",
      "model_name": "LayoutModel",
      "state": {
       "width": "500px"
      }
     },
     "fdfae25a775e41ca90943ec4c4ccd30f": {
      "model_module": "@jupyter-widgets/base",
      "model_module_version": "2.0.0",
      "model_name": "LayoutModel",
      "state": {
       "width": "500px"
      }
     },
     "fe85fbdb06534cb298a43e9653de165d": {
      "model_module": "@jupyter-widgets/base",
      "model_module_version": "2.0.0",
      "model_name": "LayoutModel",
      "state": {
       "width": "500px"
      }
     },
     "fede6d3933884c6ea819246c778a388d": {
      "model_module": "@jupyter-widgets/base",
      "model_module_version": "2.0.0",
      "model_name": "LayoutModel",
      "state": {
       "width": "500px"
      }
     },
     "ff92785c97a64062bb5c8e658674ec66": {
      "model_module": "@jupyter-widgets/controls",
      "model_module_version": "2.0.0",
      "model_name": "CheckboxStyleModel",
      "state": {
       "description_width": "initial"
      }
     }
    },
    "version_major": 2,
    "version_minor": 0
   }
  }
 },
 "nbformat": 4,
 "nbformat_minor": 4
}
